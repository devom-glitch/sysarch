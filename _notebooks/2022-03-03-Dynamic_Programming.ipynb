{
  "nbformat": 4,
  "nbformat_minor": 0,
  "metadata": {
    "colab": {
      "name": "2022-03-03-Dynamic-Programming.ipynb",
      "provenance": [],
      "authorship_tag": "ABX9TyPaNWO1RUhWICJreEJYhqKN",
      "include_colab_link": true
    },
    "kernelspec": {
      "name": "python3",
      "display_name": "Python 3"
    },
    "language_info": {
      "name": "python"
    }
  },
  "cells": [
    {
      "cell_type": "markdown",
      "metadata": {
        "id": "view-in-github",
        "colab_type": "text"
      },
      "source": [
        "<a href=\"https://colab.research.google.com/github/tpriyanshukrishnan/sysarch/blob/master/_notebooks/2022-03-03-Dynamic_Programming.ipynb\" target=\"_parent\"><img src=\"https://colab.research.google.com/assets/colab-badge.svg\" alt=\"Open In Colab\"/></a>"
      ]
    },
    {
      "cell_type": "markdown",
      "source": [
        "---\n",
        "title: \"Dynamic Programming ⛳\"\n",
        "description: \"Understanding DP helps in solving overlapping and optimal problems\"\n",
        "layout: post\n",
        "toc: false\n",
        "comments: true\n",
        "hide: false\n",
        "search_exclude: true\n",
        "categories: [Dynamic programming, Algorithms]\n",
        "---"
      ],
      "metadata": {
        "id": "WQWMjXEzJlUU"
      }
    },
    {
      "cell_type": "code",
      "source": [
        "import math"
      ],
      "metadata": {
        "id": "_m4PftriCtvG"
      },
      "execution_count": 1,
      "outputs": []
    },
    {
      "cell_type": "markdown",
      "source": [
        "### Rod Cutting problem or resourse utilzation problem [one time usage only allowed]\n",
        "Let us assume you have x length size rod with differnt prices for (x-i) length here [i<=x]. \n",
        "\n",
        "lets discuss the approach for one time resource max utilization problem.\n",
        "think we have different price for different length, we need to find wht the\n",
        "max value we can get out of this resoure. \n",
        "we will find wht expected value we can get at particular length obosely greater than 0 and less than total length.\n",
        "to get max at particular length, we need to rely on previous data of max price at one length back. so we can see its overlappying problem. \n",
        "overlappying problem can be easily solved using memoization [in-memory]\n",
        "to extract current max price we can get at particular length, we can compare the previous max value at each step + curr_price of length"
      ],
      "metadata": {
        "id": "Gm_VyVuiyclU"
      }
    },
    {
      "cell_type": "code",
      "execution_count": null,
      "metadata": {
        "id": "K-d4Amagp9Fa"
      },
      "outputs": [],
      "source": [
        "import math \n",
        "def get_max_price(rod_price_list):\n",
        "  total_length = len(rod_price_list)\n",
        "  max_obtain_at_length = [0 for x in range(total_length+1)]\n",
        "  max_obtain_at_length[0] = 0\n",
        "  for curr_len in range(1,total_length+1):\n",
        "    print(\"curr_len\",\":\",curr_len)\n",
        "    max_at_curr_len=-math.inf\n",
        "    for iter_len in range(curr_len):\n",
        "      print(\"  \",\"iter_len :\",iter_len)\n",
        "      print(\"  \",\"rod_price_list[\",iter_len,\"]=\",rod_price_list[iter_len])\n",
        "      print(\"  \",\"max_obtain_at_length[\",(curr_len-iter_len-1),\"]=\",max_obtain_at_length[curr_len-iter_len-1])\n",
        "      max_at_curr_len = max(max_at_curr_len,rod_price_list[iter_len]+max_obtain_at_length[curr_len-iter_len-1])\n",
        "      print(\"    \",\"max_at_curr_len\",\":\",max_at_curr_len)\n",
        "    max_obtain_at_length[curr_len] = max_at_curr_len\n",
        "    print(\"max_obtain_at_lentgth[\",curr_len,\"]=\",max_obtain_at_length[curr_len])\n",
        "  return max_obtain_at_length\n",
        "\n",
        "rod_price_for_differnet_length = [4, 8, 16, 1, 9, 6, 10, 12, 3, 4]\n",
        "max_valuation = get_max_price(rod_price_for_differnet_length)\n",
        "print(max_valuation)"
      ]
    },
    {
      "cell_type": "markdown",
      "source": [
        "# Max Non Adjacent Sum "
      ],
      "metadata": {
        "id": "9a9l1AV8PrWj"
      }
    },
    {
      "cell_type": "code",
      "source": [
        "def max_non_adj_sum(ls):\n",
        "  inc=[ls[0]]\n",
        "  exc=[0]\n",
        "  for i in range(1,len(ls)):\n",
        "    inc.append(ls[i] + exc[i-1])\n",
        "    exc.append(max(inc[i-1],exc[i-1]))\n",
        "  return max(max(inc),max(exc))\n",
        "\n",
        "list=[1, 5, 3, 7, 2, 2, 6]\n",
        "max_non_adj_sum(list)"
      ],
      "metadata": {
        "id": "Y46FH42AqT8X",
        "colab": {
          "base_uri": "https://localhost:8080/"
        },
        "outputId": "2a79f966-137d-4b53-bb74-8de3f43ba10f"
      },
      "execution_count": null,
      "outputs": [
        {
          "output_type": "execute_result",
          "data": {
            "text/plain": [
              "18"
            ]
          },
          "metadata": {},
          "execution_count": 8
        }
      ]
    },
    {
      "cell_type": "markdown",
      "source": [
        "# Climb Stairs with variable jumps"
      ],
      "metadata": {
        "id": "AEJBcQMrfP0w"
      }
    },
    {
      "cell_type": "code",
      "source": [
        "def countpath(n,memo):\n",
        "  if n==0: return 1\n",
        "  elif n<0: return 0\n",
        "  if memo[n] > 0: return memo[n]\n",
        "  n1 = countpath(n-1,memo)\n",
        "  n2 = countpath(n-2,memo)\n",
        "  n3 = countpath(n-3,memo)\n",
        "  cp = n1 + n2 + n3\n",
        "  memo[n] = cp\n",
        "  return cp \n",
        "n = 10\n",
        "memo=[0 for i in range(n+1)]\n",
        "print(countpath(n,memo))\n",
        "  "
      ],
      "metadata": {
        "colab": {
          "base_uri": "https://localhost:8080/"
        },
        "id": "5h4xTdytfOwv",
        "outputId": "ebe48a84-0278-4e09-b4f4-0435fa24e137"
      },
      "execution_count": null,
      "outputs": [
        {
          "output_type": "stream",
          "name": "stdout",
          "text": [
            "274\n"
          ]
        }
      ]
    },
    {
      "cell_type": "markdown",
      "source": [
        "# Climb Stairs with variable jumps"
      ],
      "metadata": {
        "id": "aPYjwHwCkjem"
      }
    },
    {
      "cell_type": "code",
      "source": [
        "def countpath_var(n,var_jumps):\n",
        "  dp = [0 for i in range(n+1)]\n",
        "  dp[n] = 1\n",
        "  for i in range(n-1,-1,-1):\n",
        "    for j in range(1,var_jumps[i]+1):\n",
        "      if i + j <= n:\n",
        "        dp[i] += dp[i+j]\n",
        "  return dp\n",
        "n=6\n",
        "var_jumps = [2,3,0,2,2,3]\n",
        "print(countpath_var(n,var_jumps))"
      ],
      "metadata": {
        "colab": {
          "base_uri": "https://localhost:8080/"
        },
        "id": "DkQMidAOjLT1",
        "outputId": "c5956f51-6d2c-4685-f01b-928b26d4c244"
      },
      "execution_count": null,
      "outputs": [
        {
          "output_type": "stream",
          "name": "stdout",
          "text": [
            "[5, 5, 0, 3, 2, 1, 1]\n"
          ]
        }
      ]
    },
    {
      "cell_type": "markdown",
      "source": [
        "# Climb Stairs with minimum move"
      ],
      "metadata": {
        "id": "Xv2Jg8Jca-Qt"
      }
    },
    {
      "cell_type": "code",
      "source": [
        "def countpath_min(n, jumps):\n",
        "  dp = [None for i in range(n+1)]\n",
        "  dp[n] = 0 \n",
        "  for i in range(n-1,-1,-1):\n",
        "    loc_min = math.inf\n",
        "    for j in range(1, jumps[i] + 1):\n",
        "      if i+j <= n and dp[i+j] != None:\n",
        "        loc_min = min(loc_min,dp[i+j])\n",
        "    if loc_min != math.inf:\n",
        "      dp[i] = loc_min + 1\n",
        "  return dp\n",
        "\n",
        "\n",
        "n = 6\n",
        "jumps = [2,3,1,2,2,3]\n",
        "print(countpath_min(n,jumps))\n"
      ],
      "metadata": {
        "id": "bQ1VVfBeoW4F",
        "colab": {
          "base_uri": "https://localhost:8080/"
        },
        "outputId": "dbccb8bd-3e30-4119-a18f-333c876bf6c9"
      },
      "execution_count": 4,
      "outputs": [
        {
          "output_type": "stream",
          "name": "stdout",
          "text": [
            "[3, 2, 3, 2, 1, 1, 0]\n"
          ]
        }
      ]
    },
    {
      "cell_type": "markdown",
      "source": [
        "# Minimum Cost Path"
      ],
      "metadata": {
        "id": "vMPROlmEEhhc"
      }
    },
    {
      "cell_type": "code",
      "source": [
        ""
      ],
      "metadata": {
        "id": "_mlTNtIeEFD5"
      },
      "execution_count": 5,
      "outputs": []
    },
    {
      "cell_type": "code",
      "source": [
        ""
      ],
      "metadata": {
        "id": "PzeYeF7AEe0f"
      },
      "execution_count": null,
      "outputs": []
    }
  ]
}