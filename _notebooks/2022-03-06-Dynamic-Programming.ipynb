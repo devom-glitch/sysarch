{
  "cells": [
    {
      "cell_type": "markdown",
      "metadata": {},
      "source": [
        "# Dynamic Programming Snippets\n",
        "> A Python Code Snippets for problem which have overlapping and optimal problem space \n",
        "\n",
        "- toc: true \n",
        "- badges: true\n",
        "- comments: true\n",
        "- categories: [algorithms]\n",
        "- hide: false"
      ]
    },
    {
      "cell_type": "markdown",
      "metadata": {
        "id": "Gm_VyVuiyclU"
      },
      "source": [
        "# Rod Cutting"
      ]
    },
    {
      "cell_type": "code",
      "execution_count": null,
      "metadata": {
        "id": "K-d4Amagp9Fa"
      },
      "outputs": [],
      "source": [
        "import math \n",
        "def get_max_price(rod_price_list):\n",
        "  total_length = len(rod_price_list)\n",
        "  max_obtain_at_length = [0 for x in range(total_length+1)]\n",
        "  max_obtain_at_length[0] = 0\n",
        "  for curr_len in range(1,total_length+1):\n",
        "    print(\"curr_len\",\":\",curr_len)\n",
        "    max_at_curr_len=-math.inf\n",
        "    for iter_len in range(curr_len):\n",
        "      print(\"  \",\"iter_len :\",iter_len)\n",
        "      print(\"  \",\"rod_price_list[\",iter_len,\"]=\",rod_price_list[iter_len])\n",
        "      print(\"  \",\"max_obtain_at_length[\",(curr_len-iter_len-1),\"]=\",max_obtain_at_length[curr_len-iter_len-1])\n",
        "      max_at_curr_len = max(max_at_curr_len,rod_price_list[iter_len]+max_obtain_at_length[curr_len-iter_len-1])\n",
        "      print(\"    \",\"max_at_curr_len\",\":\",max_at_curr_len)\n",
        "    max_obtain_at_length[curr_len] = max_at_curr_len\n",
        "    print(\"max_obtain_at_lentgth[\",curr_len,\"]=\",max_obtain_at_length[curr_len])\n",
        "  return max_obtain_at_length\n",
        "\n",
        "rod_price_for_differnet_length = [4, 8, 16, 1, 9, 6, 10, 12, 3, 4]\n",
        "max_valuation = get_max_price(rod_price_for_differnet_length)\n",
        "print(max_valuation)"
      ]
    },
    {
      "cell_type": "markdown",
      "metadata": {
        "id": "9a9l1AV8PrWj"
      },
      "source": [
        "# Max Non Adjacent Sum "
      ]
    },
    {
      "cell_type": "code",
      "execution_count": null,
      "metadata": {
        "colab": {
          "base_uri": "https://localhost:8080/"
        },
        "id": "Y46FH42AqT8X",
        "outputId": "2a79f966-137d-4b53-bb74-8de3f43ba10f"
      },
      "outputs": [
        {
          "data": {
            "text/plain": [
              "18"
            ]
          },
          "execution_count": 8,
          "metadata": {},
          "output_type": "execute_result"
        }
      ],
      "source": [
        "def max_non_adj_sum(ls):\n",
        "  inc=[ls[0]]\n",
        "  exc=[0]\n",
        "  for i in range(1,len(ls)):\n",
        "    inc.append(ls[i] + exc[i-1])\n",
        "    exc.append(max(inc[i-1],exc[i-1]))\n",
        "  return max(max(inc),max(exc))\n",
        "\n",
        "list=[1, 5, 3, 7, 2, 2, 6]\n",
        "max_non_adj_sum(list)"
      ]
    },
    {
      "cell_type": "markdown",
      "metadata": {
        "id": "AEJBcQMrfP0w"
      },
      "source": [
        "# Climb Stairs with variable jumps"
      ]
    },
    {
      "cell_type": "code",
      "execution_count": null,
      "metadata": {
        "colab": {
          "base_uri": "https://localhost:8080/"
        },
        "id": "5h4xTdytfOwv",
        "outputId": "ebe48a84-0278-4e09-b4f4-0435fa24e137"
      },
      "outputs": [
        {
          "name": "stdout",
          "output_type": "stream",
          "text": [
            "274\n"
          ]
        }
      ],
      "source": [
        "def countpath(n,memo):\n",
        "  if n==0: return 1\n",
        "  elif n<0: return 0\n",
        "  if memo[n] > 0: return memo[n]\n",
        "  n1 = countpath(n-1,memo)\n",
        "  n2 = countpath(n-2,memo)\n",
        "  n3 = countpath(n-3,memo)\n",
        "  cp = n1 + n2 + n3\n",
        "  memo[n] = cp\n",
        "  return cp \n",
        "n = 10\n",
        "memo=[0 for i in range(n+1)]\n",
        "print(countpath(n,memo))\n",
        "  "
      ]
    },
    {
      "cell_type": "markdown",
      "metadata": {
        "id": "aPYjwHwCkjem"
      },
      "source": [
        "# Climb Stairs with variable jumps"
      ]
    },
    {
      "cell_type": "code",
      "execution_count": null,
      "metadata": {
        "colab": {
          "base_uri": "https://localhost:8080/"
        },
        "id": "DkQMidAOjLT1",
        "outputId": "c5956f51-6d2c-4685-f01b-928b26d4c244"
      },
      "outputs": [
        {
          "name": "stdout",
          "output_type": "stream",
          "text": [
            "[5, 5, 0, 3, 2, 1, 1]\n"
          ]
        }
      ],
      "source": [
        "def countpath_var(n,var_jumps):\n",
        "  dp = [0 for i in range(n+1)]\n",
        "  dp[n] = 1\n",
        "  for i in range(n-1,-1,-1):\n",
        "    for j in range(1,var_jumps[i]+1):\n",
        "      if i + j <= n:\n",
        "        dp[i] += dp[i+j]\n",
        "  return dp\n",
        "n=6\n",
        "var_jumps = [2,3,0,2,2,3]\n",
        "print(countpath_var(n,var_jumps))"
      ]
    },
    {
      "cell_type": "markdown",
      "metadata": {
        "id": "Xv2Jg8Jca-Qt"
      },
      "source": [
        "# Climb Stairs with minimum move"
      ]
    },
    {
      "cell_type": "code",
      "execution_count": null,
      "metadata": {
        "colab": {
          "base_uri": "https://localhost:8080/"
        },
        "id": "bQ1VVfBeoW4F",
        "outputId": "dbccb8bd-3e30-4119-a18f-333c876bf6c9"
      },
      "outputs": [
        {
          "name": "stdout",
          "output_type": "stream",
          "text": [
            "[3, 2, 3, 2, 1, 1, 0]\n"
          ]
        }
      ],
      "source": [
        "def countpath_min(n, jumps):\n",
        "  dp = [None for i in range(n+1)]\n",
        "  dp[n] = 0 \n",
        "  for i in range(n-1,-1,-1):\n",
        "    loc_min = math.inf\n",
        "    for j in range(1, jumps[i] + 1):\n",
        "      if i+j <= n and dp[i+j] != None:\n",
        "        loc_min = min(loc_min,dp[i+j])\n",
        "    if loc_min != math.inf:\n",
        "      dp[i] = loc_min + 1\n",
        "  return dp\n",
        "\n",
        "\n",
        "n = 6\n",
        "jumps = [2,3,1,2,2,3]\n",
        "print(countpath_min(n,jumps))\n"
      ]
    },
    {
      "cell_type": "markdown",
      "metadata": {
        "id": "vMPROlmEEhhc"
      },
      "source": [
        "# Minimum Cost Path"
      ]
    },
    {
      "cell_type": "code",
      "execution_count": null,
      "metadata": {
        "colab": {
          "base_uri": "https://localhost:8080/"
        },
        "id": "_mlTNtIeEFD5",
        "outputId": "fb07ca14-41be-480a-cfda-91111ec65077"
      },
      "outputs": [
        {
          "data": {
            "text/plain": [
              "[[23, 23, 13], [21, 18, 9], [15, 10, 8]]"
            ]
          },
          "execution_count": 9,
          "metadata": {},
          "output_type": "execute_result"
        }
      ],
      "source": [
        "def min_cost_path(ln, wd, costmark):\n",
        "  dp = [[None for w in range(wd)] for l in range(ln)]\n",
        "  for i in range(ln-1,-1,-1):\n",
        "    for j in range(wd-1,-1,-1):\n",
        "      if i == ln-1 and j == wd-1:\n",
        "        dp[i][j] = costmark[i][j]\n",
        "      elif i == ln - 1:\n",
        "        dp[i][j] = dp[i][j+1] + costmark[i][j]\n",
        "      elif j == wd - 1:\n",
        "        dp[i][j] = dp[i+1][j] + costmark[i][j]\n",
        "      else:\n",
        "        dp[i][j] = min(dp[i+1][j], dp[i][j+1]) + costmark[i][j]\n",
        "  return dp\n",
        "\n",
        "length=3\n",
        "width=3\n",
        "costmark = [\n",
        "            [2, 10, 4],\n",
        "            [6, 9, 1],\n",
        "            [5, 2, 8]\n",
        "]\n",
        "min_cost_path(length, width, costmark)"
      ]
    },
    {
      "cell_type": "markdown",
      "metadata": {
        "id": "QddkMaa1R5Pj"
      },
      "source": [
        "# Path with maximum gold"
      ]
    },
    {
      "cell_type": "code",
      "execution_count": null,
      "metadata": {
        "colab": {
          "base_uri": "https://localhost:8080/"
        },
        "id": "PzeYeF7AEe0f",
        "outputId": "474dd3ef-0fd8-435f-c1f6-883df75c954e"
      },
      "outputs": [
        {
          "data": {
            "text/plain": [
              "[[14, 12, 2], [17, 6, 4], [11, 10, 6]]"
            ]
          },
          "execution_count": 12,
          "metadata": {},
          "output_type": "execute_result"
        }
      ],
      "source": [
        "def max_gold(ln,wd,goldmine):\n",
        "    dp = [[None for w in range(wd)] for l in range(ln)]\n",
        "    for j in range(wd-1,-1,-1):\n",
        "      for i in range(ln-1,-1,-1):\n",
        "        if j == wd - 1:\n",
        "          dp[i][j] = goldmine[i][j]\n",
        "        elif i == 0 :\n",
        "          dp[i][j] = max(dp[i][j+1],dp[i+1][j+1]) + goldmine[i][j]\n",
        "        elif i == ln-1:\n",
        "          dp[i][j] = max(dp[i][j+1],dp[i-1][j+1]) + goldmine[i][j]\n",
        "        else:\n",
        "          dp[i][j] = max(dp[i-1][j+1],dp[i][j+1],dp[i+1][j+1]) + goldmine[i][j]\n",
        "    return dp \n",
        "\n",
        "length = 3\n",
        "width = 3\n",
        "goldmine = [\n",
        "  [2, 8, 2],\n",
        "  [5, 0, 4],\n",
        "  [1, 4, 6],            \n",
        "]\n",
        "max_gold(length,width,goldmine)"
      ]
    },
    {
      "cell_type": "markdown",
      "metadata": {
        "id": "hqTQERoUpYjS"
      },
      "source": [
        "# Target Sum Subsets"
      ]
    },
    {
      "cell_type": "code",
      "execution_count": null,
      "metadata": {
        "colab": {
          "base_uri": "https://localhost:8080/"
        },
        "id": "AQGEbeWens1C",
        "outputId": "02f770e2-d018-4e67-a39f-2793a06bc506"
      },
      "outputs": [
        {
          "data": {
            "text/plain": [
              "[[True, False, False, False, False, False],\n",
              " [True, None, None, None, None, True],\n",
              " [True, None, True, None, None, True],\n",
              " [True, None, True, None, True, True],\n",
              " [True, True, True, True, True, True]]"
            ]
          },
          "execution_count": 20,
          "metadata": {},
          "output_type": "execute_result"
        }
      ],
      "source": [
        "def tar_subsum(n,arr,sm):\n",
        "  dp = [[ None for j in range(sm)] for i in range(n)]\n",
        "  for i in range(n):\n",
        "    for j in range(sm):\n",
        "      if i == 0 and j == 0:\n",
        "        dp[i][j] = True\n",
        "      elif i == 0:\n",
        "        dp[i][j] = False\n",
        "      elif j ==0:\n",
        "        dp[i][j] = True\n",
        "      else:\n",
        "        # when current number don't participate formation \n",
        "        if dp[i-1][j] == True:\n",
        "          dp[i][j] = True\n",
        "        # when current number participate in sum formation \n",
        "        else:\n",
        "          val = arr[i-1]\n",
        "          if val <= j:\n",
        "            if dp[i-1][j-val] == True:\n",
        "              dp[i][j] = True\n",
        "  return dp\n",
        "\n",
        "n=5\n",
        "sm = 6 \n",
        "arr = [5, 2, 4, 1, 3]\n",
        "tar_subsum(n,arr,sm)"
      ]
    },
    {
      "cell_type": "markdown",
      "metadata": {
        "id": "xW4e4FibAd9l"
      },
      "source": [
        "#Coin Change Combination "
      ]
    },
    {
      "cell_type": "code",
      "execution_count": null,
      "metadata": {
        "colab": {
          "base_uri": "https://localhost:8080/"
        },
        "id": "Bdl-ExDa0ddn",
        "outputId": "a6e00a90-2f87-4dba-f269-82e974291921"
      },
      "outputs": [
        {
          "name": "stdout",
          "output_type": "stream",
          "text": [
            "[1, 0, 1, 0, 1, 0, 1, 0]\n",
            "[1, 0, 1, 1, 1, 1, 2, 1]\n",
            "[1, 0, 1, 1, 1, 2, 2, 2]\n"
          ]
        }
      ],
      "source": [
        "def coinchg_comb(n,coin,sm):\n",
        "  dp = [0 for i in range(sm+1)]\n",
        "  dp[0] = 1\n",
        "  for i in coin:\n",
        "    for j in range(i,sm+1):\n",
        "      dp[j] += dp[j-i]\n",
        "    print(dp)\n",
        "\n",
        "\n",
        "n = 3\n",
        "arr = [2, 3, 5]\n",
        "sm = 7 \n",
        "coinchg_comb(n,arr,sm)"
      ]
    },
    {
      "cell_type": "markdown",
      "metadata": {
        "id": "obMs3VeBF8LX"
      },
      "source": [
        "# Coin Change Permutation "
      ]
    },
    {
      "cell_type": "code",
      "execution_count": null,
      "metadata": {
        "colab": {
          "base_uri": "https://localhost:8080/"
        },
        "id": "vEITnyqdBu1l",
        "outputId": "ffcb382a-a924-4793-e53e-a1f96afc2787"
      },
      "outputs": [
        {
          "name": "stdout",
          "output_type": "stream",
          "text": [
            "[1, 0, 0, 0, 0, 0, 0, 0]\n",
            "[1, 0, 1, 0, 0, 0, 0, 0]\n",
            "[1, 0, 1, 1, 0, 0, 0, 0]\n",
            "[1, 0, 1, 1, 1, 0, 0, 0]\n",
            "[1, 0, 1, 1, 1, 3, 0, 0]\n",
            "[1, 0, 1, 1, 1, 3, 2, 0]\n",
            "[1, 0, 1, 1, 1, 3, 2, 5]\n"
          ]
        }
      ],
      "source": [
        "def coinchg_perm(n,coins,sm):\n",
        "  dp = [0 for i in range(sm+1)]\n",
        "  dp[0] = 1\n",
        "  for i in range(1,sm+1):\n",
        "    for coin in coins:\n",
        "      if coin <= i:\n",
        "        dp[i] += dp[i-coin]\n",
        "    print(dp)\n",
        "\n",
        "n = 3\n",
        "arr = [2, 3, 5]\n",
        "sm = 7 \n",
        "coinchg_perm(n,arr,sm)\n",
        "\n"
      ]
    },
    {
      "cell_type": "markdown",
      "metadata": {
        "id": "i1p93wwsQR0l"
      },
      "source": [
        "# 0-1 Knapsack "
      ]
    },
    {
      "cell_type": "code",
      "execution_count": null,
      "metadata": {
        "colab": {
          "base_uri": "https://localhost:8080/"
        },
        "id": "Ul8jdmjJOnEg",
        "outputId": "d7e5e6ed-e8ae-4f95-bcae-1f57613c72a4"
      },
      "outputs": [
        {
          "name": "stdout",
          "output_type": "stream",
          "text": [
            "[[0, 0, 0, 0, 0, 0, 0, 0], [0, 0, 15, 15, 15, 15, 15, 15], [0, 0, 15, 15, 15, 15, 15, 29], [0, 10, 15, 25, 25, 25, 25, 29], [0, 10, 15, 45, 55, 60, 70, 70], [0, 10, 15, 45, 55, 60, 70, 75]]\n"
          ]
        }
      ],
      "source": [
        "def knapsack(n, cost, wg, tot_wg):\n",
        "  dp = [[0 for j in range(tot_wg+1)] for i in range(n+1)]\n",
        "  for i in range(1,n+1):\n",
        "    for j in range(1,tot_wg+1):\n",
        "      if i == 0 or j==0:\n",
        "        dp[i][j] = 0\n",
        "      else:\n",
        "        dp[i][j] = dp[i-1][j]\n",
        "        if j >= wg[i-1]:\n",
        "          dp[i][j] = max(dp[i-1][j],cost[i-1] + dp[i-1][j-wg[i-1]])\n",
        "\n",
        "  print(dp)\n",
        "\n",
        "n = 5\n",
        "cost = [15,14,10,45,30]\n",
        "wg = [2,5,1,3,4]\n",
        "tot_wg = 7\n",
        "knapsack(n,cost,wg,tot_wg)"
      ]
    },
    {
      "cell_type": "markdown",
      "metadata": {
        "id": "pQ-WQhHwpyL_"
      },
      "source": [
        "# Unbounded Knapsack"
      ]
    },
    {
      "cell_type": "code",
      "execution_count": null,
      "metadata": {
        "colab": {
          "base_uri": "https://localhost:8080/"
        },
        "id": "XpNI6Bivcm-g",
        "outputId": "b983805d-95ca-4046-8787-cc68749a74c9"
      },
      "outputs": [
        {
          "data": {
            "text/plain": [
              "[0, 10, 20, 45, 55, 65, 90, 100]"
            ]
          },
          "execution_count": 42,
          "metadata": {},
          "output_type": "execute_result"
        }
      ],
      "source": [
        "def unknapsack(n, cost, wg, tot_wg):\n",
        "  dp = [0 for j in range(tot_wg+1)]\n",
        "  for j in range(1,tot_wg+1):\n",
        "    mx = 0\n",
        "    for i in range(n):\n",
        "      if j >= wg[i]:\n",
        "        mx = max(mx, cost[i] + dp[j-wg[i]])\n",
        "    dp[j] = mx\n",
        "  return dp\n",
        "\n",
        "n = 5\n",
        "cost = [15,14,10,45,30]\n",
        "wg = [2,5,1,3,4]\n",
        "tot_wg = 7\n",
        "unknapsack(n,cost,wg,tot_wg)"
      ]
    },
    {
      "cell_type": "markdown",
      "metadata": {
        "id": "q15W5e6jwD6U"
      },
      "source": [
        "# Binary String [Not two consecutive zeros allowes]"
      ]
    },
    {
      "cell_type": "code",
      "execution_count": null,
      "metadata": {
        "colab": {
          "base_uri": "https://localhost:8080/"
        },
        "id": "WEvIGZpsslMx",
        "outputId": "88c32982-fa33-452d-aeac-ddd03fa2ac62"
      },
      "outputs": [
        {
          "name": "stdout",
          "output_type": "stream",
          "text": [
            "13\n"
          ]
        }
      ],
      "source": [
        "def bistr(n):\n",
        "  dp0 = [0 for i in range(n)]\n",
        "  dp1 = [0 for i in range(n)]\n",
        "  dp0[1] = 1\n",
        "  dp1[1] = 1\n",
        "  for i in range(2,n):\n",
        "    dp0[i] = dp1[i-1]\n",
        "    dp1[i] = dp0[i-1] + dp1[i-1]\n",
        "  return dp0,dp1\n",
        "\n",
        "n = 6 \n",
        "a, b = bistr(n)\n",
        "print(a[-1] + b[-1])"
      ]
    },
    {
      "cell_type": "markdown",
      "metadata": {
        "id": "wrOmEgpGlh0P"
      },
      "source": [
        "# Paint House"
      ]
    },
    {
      "cell_type": "code",
      "execution_count": 1,
      "metadata": {
        "colab": {
          "base_uri": "https://localhost:8080/"
        },
        "id": "0HTQx3jOw5_I",
        "outputId": "d7d4009a-2362-4a16-8faf-d5dc6c02acfe"
      },
      "outputs": [
        {
          "data": {
            "text/plain": [
              "[[1, 5, 7], [10, 9, 5], [8, 7, 18], [8, 10, 11]]"
            ]
          },
          "execution_count": 1,
          "metadata": {},
          "output_type": "execute_result"
        }
      ],
      "source": [
        "def paint_house(house, color, color_cost):\n",
        "  dp = [[None for i in range(color)] for j in range(house)]\n",
        "  for i in range(house):\n",
        "    if i == 0:\n",
        "      dp[i][0] = color_cost[i][0]\n",
        "      dp[i][1] = color_cost[i][1]\n",
        "      dp[i][2] = color_cost[i][2]\n",
        "    else:\n",
        "      dp[i][0] = color_cost[i][0] + min(dp[i-1][1], dp[i-1][2])\n",
        "      dp[i][1] = color_cost[i][1] + min(dp[i-1][0], dp[i-1][2])\n",
        "      dp[i][2] = color_cost[i][2] + min(dp[i-1][0], dp[i-1][1])\n",
        "  return dp\n",
        "house = 4\n",
        "color =3\n",
        "color_cost = [\n",
        "         [1, 5, 7],\n",
        "         [5, 8, 4],\n",
        "         [3, 2, 9],\n",
        "         [1, 2, 4],\n",
        "]\n",
        "paint_house(house, color, color_cost)"
      ]
    },
    {
      "cell_type": "markdown",
      "metadata": {
        "id": "7-u9mhhln1Td"
      },
      "source": [
        "# Paint House Multi Color"
      ]
    },
    {
      "cell_type": "code",
      "execution_count": 6,
      "metadata": {
        "colab": {
          "base_uri": "https://localhost:8080/"
        },
        "id": "PFNOoqRdnWQa",
        "outputId": "3dde6541-0594-4bac-a1fd-d0370800854e"
      },
      "outputs": [
        {
          "data": {
            "text/plain": [
              "[[1, 5, 7], [10, 9, 5], [8, 7, 18], [8, 10, 11]]"
            ]
          },
          "execution_count": 6,
          "metadata": {},
          "output_type": "execute_result"
        }
      ],
      "source": [
        "import math\n",
        "def paint_house_multi(house, color, color_cost):\n",
        "  dp = [[0 for i in range(color)] for j in range(house)]\n",
        "  for j in range(color):\n",
        "    dp[0][j]=color_cost[0][j]\n",
        "\n",
        "  for i in range(house):\n",
        "    for j in range(color):\n",
        "      local_min = math.inf\n",
        "      for k in range(color):\n",
        "        if k != j:\n",
        "          if dp[i-1][k] < local_min:\n",
        "            local_min = dp[i-1][k]\n",
        "      dp[i][j] = color_cost[i][j] + local_min\n",
        "      \n",
        "  return dp\n",
        "house = 4\n",
        "color =3\n",
        "color_cost = [\n",
        "         [1, 5, 7],\n",
        "         [5, 8, 4],\n",
        "         [3, 2, 9],\n",
        "         [1, 2, 4],\n",
        "]\n",
        "paint_house_multi(house, color, color_cost)"
      ]
    },
    {
      "cell_type": "markdown",
      "metadata": {
        "id": "WK91FJB1uSlP"
      },
      "source": [
        "# Paint Fence"
      ]
    },
    {
      "cell_type": "code",
      "execution_count": 8,
      "metadata": {
        "colab": {
          "base_uri": "https://localhost:8080/"
        },
        "id": "IVApOR3op08M",
        "outputId": "7f93038b-08f8-4931-c3b3-7ca0d07ba450"
      },
      "outputs": [
        {
          "data": {
            "text/plain": [
              "3672"
            ]
          },
          "execution_count": 8,
          "metadata": {},
          "output_type": "execute_result"
        }
      ],
      "source": [
        "def paint_fence(fence, color):\n",
        "  same = color\n",
        "  diff = color * (color -1)\n",
        "  total = same + diff\n",
        "  for i in range(3, fence+1):\n",
        "    same = diff * 1\n",
        "    diff = total * (color - 1)\n",
        "    total = same + diff\n",
        "  return total \n",
        "\n",
        "fence = 8\n",
        "color = 3\n",
        "paint_fence(fence,color)"
      ]
    },
    {
      "cell_type": "markdown",
      "metadata": {
        "id": "egJVySvkvQ6k"
      },
      "source": [
        "# Tilling with 2 * 1 tiles\n"
      ]
    },
    {
      "cell_type": "code",
      "execution_count": 10,
      "metadata": {
        "colab": {
          "base_uri": "https://localhost:8080/"
        },
        "id": "CTw9dtp-u_UI",
        "outputId": "7534458a-22e8-4f7a-f052-c64ad67dbb53"
      },
      "outputs": [
        {
          "data": {
            "text/plain": [
              "[0, 1, 2, 3, 5]"
            ]
          },
          "execution_count": 10,
          "metadata": {},
          "output_type": "execute_result"
        }
      ],
      "source": [
        "def tilling(tiles):\n",
        "  dp = [0 for i in range(tiles+1)]\n",
        "  dp[1] = 1\n",
        "  dp[2] = 2\n",
        "  for i in range(3,tiles+1):\n",
        "    dp[i] = dp[i-1] + dp[i-2]\n",
        "  return dp\n",
        "tiles = 4\n",
        "tilling(tiles)"
      ]
    },
    {
      "cell_type": "markdown",
      "metadata": {
        "id": "iKEI9IOpzcxZ"
      },
      "source": [
        "# Tilling with M*1 tiles"
      ]
    },
    {
      "cell_type": "code",
      "execution_count": 13,
      "metadata": {
        "colab": {
          "base_uri": "https://localhost:8080/"
        },
        "id": "GgshcfAZx3aU",
        "outputId": "0d45ec5b-c177-48f7-9ba5-8d68b9f13b1c"
      },
      "outputs": [
        {
          "data": {
            "text/plain": [
              "[0, 1, 1, 2, 3, 4, 6, 9, 13]"
            ]
          },
          "execution_count": 13,
          "metadata": {},
          "output_type": "execute_result"
        }
      ],
      "source": [
        "def tilling(tiles,size):\n",
        "  dp = [0 for i in range(tiles+1)]\n",
        "  for i in range(1,tiles+1):\n",
        "    if i < size:\n",
        "      dp[i] = 1\n",
        "    elif i == size:\n",
        "      dp[i] = 2\n",
        "    else:\n",
        "      dp[i] = dp[i-1] + dp[i-size]\n",
        "  return dp\n",
        "tiles = 8\n",
        "size = 3\n",
        "tilling(tiles,size)"
      ]
    },
    {
      "cell_type": "markdown",
      "metadata": {
        "id": "QsRfBQEg0q54"
      },
      "source": [
        "# Friend Pairing"
      ]
    },
    {
      "cell_type": "code",
      "execution_count": 14,
      "metadata": {
        "colab": {
          "base_uri": "https://localhost:8080/"
        },
        "id": "Gp2mCidd0fam",
        "outputId": "cb8f270b-706f-4206-f617-e8de623c4fb8"
      },
      "outputs": [
        {
          "data": {
            "text/plain": [
              "[0, 1, 2, 4, 10, 26]"
            ]
          },
          "execution_count": 14,
          "metadata": {},
          "output_type": "execute_result"
        }
      ],
      "source": [
        "def frndpair(n):\n",
        "  dp = [0 for i in range(n+1)]\n",
        "  dp[1] = 1\n",
        "  dp[2] = 2\n",
        "  for i in range(3, n+1):\n",
        "    dp[i] = dp[i-1] + (i-1) * dp[i-2]\n",
        "  return dp\n",
        "n = 5\n",
        "frndpair(n)"
      ]
    },
    {
      "cell_type": "markdown",
      "metadata": {
        "id": "Ni4ykJPuCoCI"
      },
      "source": [
        "# Best Time to Buy & Sell Stock [ One Transaction ]"
      ]
    },
    {
      "cell_type": "code",
      "execution_count": 4,
      "metadata": {
        "colab": {
          "base_uri": "https://localhost:8080/"
        },
        "id": "8eNb1VGW6i3B",
        "outputId": "4c2b7c11-2e2a-4bc4-dda5-ca3234b19c22"
      },
      "outputs": [
        {
          "data": {
            "text/plain": [
              "[0, 1, 2, 2, 4, 2, 1, 0]"
            ]
          },
          "execution_count": 4,
          "metadata": {},
          "output_type": "execute_result"
        }
      ],
      "source": [
        "def bst(price):\n",
        "  loc_min = price[0]\n",
        "  dp = [0 for i in range(len(price))]\n",
        "  for i in range(len(price)):\n",
        "    if price[i] < loc_min:\n",
        "      loc_min = price[i]\n",
        "    dp[i] = price[i] - loc_min\n",
        "  return dp\n",
        "\n",
        "price = [1,2,3,3,5,3,2,1]\n",
        "bst(price)"
      ]
    },
    {
      "cell_type": "markdown",
      "metadata": {
        "id": "m1VqUJ5JFzwg"
      },
      "source": [
        "# Best Time to Buy and Sell Stock (Infinite Transaction)"
      ]
    },
    {
      "cell_type": "code",
      "execution_count": 5,
      "metadata": {
        "colab": {
          "base_uri": "https://localhost:8080/"
        },
        "id": "WcYQg_g6Di6M",
        "outputId": "7c1bbb33-98ad-4530-bb71-26bb2f1e80f7"
      },
      "outputs": [
        {
          "data": {
            "text/plain": [
              "30"
            ]
          },
          "execution_count": 5,
          "metadata": {},
          "output_type": "execute_result"
        }
      ],
      "source": [
        "def bsit(price):\n",
        "  buy = price[0]\n",
        "  sell = price[0]\n",
        "  profit = 0\n",
        "  for p in price:\n",
        "    if p >= sell:\n",
        "      sell = p\n",
        "    else:\n",
        "      profit += (sell - buy) \n",
        "      buy = p\n",
        "      sell = p\n",
        "  return profit\n",
        "    \n",
        "\n",
        "price = [11,6,7,19,4,1,6,18,4] \n",
        "bsit(price)"
      ]
    },
    {
      "cell_type": "markdown",
      "metadata": {
        "id": "snUxfJawesSL"
      },
      "source": [
        "# Buy and Sell Stock with Cooldown state"
      ]
    },
    {
      "cell_type": "code",
      "execution_count": 6,
      "metadata": {
        "colab": {
          "base_uri": "https://localhost:8080/"
        },
        "id": "BkhT4BCwHzJv",
        "outputId": "e00a76dc-2d52-4a32-e5a4-5f808e8f5db8"
      },
      "outputs": [
        {
          "data": {
            "text/plain": [
              "(-6, 19, 17)"
            ]
          },
          "execution_count": 6,
          "metadata": {},
          "output_type": "execute_result"
        }
      ],
      "source": [
        "def bsc(price):\n",
        "  obsp = -price[0]\n",
        "  ossp = 0\n",
        "  ocsp = 0\n",
        "  for i in range(1,len(price)):\n",
        "    nbsp = nssp = ncsp = 0\n",
        "    if ocsp - price[i] > obsp:\n",
        "      nbsp = ocsp - price[i]\n",
        "    else:\n",
        "      nbsp = obsp\n",
        "    if price[i] + obsp > ossp:\n",
        "      nssp = price[i] + obsp \n",
        "    else:\n",
        "      nssp = ossp\n",
        "    if ossp > ocsp:\n",
        "      ncsp = ossp\n",
        "    else:\n",
        "      ncsp = ocsp \n",
        "    obsp = nbsp \n",
        "    ossp = nssp \n",
        "    ocsp = ncsp \n",
        "  return  obsp, ossp, ocsp \n",
        "\n",
        "price = [10,15,17,20,16,18,22,20,22,20,23,25]\n",
        "bsc(price)"
      ]
    },
    {
      "cell_type": "markdown",
      "metadata": {
        "id": "OV64sBVBeroo"
      },
      "source": [
        "# Buy and Sell Stocks ( Two Transactions ) "
      ]
    },
    {
      "cell_type": "code",
      "execution_count": 16,
      "metadata": {
        "colab": {
          "base_uri": "https://localhost:8080/"
        },
        "id": "I5E8-MfAk5Xd",
        "outputId": "06fda437-4a13-496b-844a-fe7b53b6ba9e"
      },
      "outputs": [
        {
          "data": {
            "text/plain": [
              "[20]"
            ]
          },
          "execution_count": 16,
          "metadata": {},
          "output_type": "execute_result"
        }
      ],
      "source": [
        "def bs2t(price):\n",
        "  buy = price[0]\n",
        "  sell = price[0]\n",
        "  possible_trans = []\n",
        "  for i in range(1,len(price)):\n",
        "    if price[i] >= sell:\n",
        "      sell = price[i]\n",
        "    else:\n",
        "      if (sell - buy) > 0: \n",
        "        possible_trans.append(sell-buy)\n",
        "      buy = price[i]\n",
        "      sell = price[i]\n",
        "  possible_trans.append(sell-buy)\n",
        "  return possible_trans\n",
        "    \n",
        "\n",
        "price = [11,6,7,19,4,1,6,18,4] \n",
        "bs2t(price)\n",
        "bs2t([10,20,30])"
      ]
    },
    {
      "cell_type": "markdown",
      "metadata": {
        "id": "48EZYp_Qvw0T"
      },
      "source": [
        "# Best Time to Buy and Sell Stocks ( K Transactions allowed ) \n",
        "[review required](https://www.youtube.com/watch?v=3YILP-PdEJA&list=PL-Jc9J83PIiG8fE6rj9F5a6uyQ5WPdqKy&index=35&ab_channel=Pepcoding)\n"
      ]
    },
    {
      "cell_type": "markdown",
      "metadata": {
        "id": "StIndkiq2GU_"
      },
      "source": [
        "# Highway Billboard"
      ]
    },
    {
      "cell_type": "code",
      "execution_count": 17,
      "metadata": {
        "colab": {
          "base_uri": "https://localhost:8080/"
        },
        "id": "k2s_2ThesfUr",
        "outputId": "1ba29c47-ed8e-4588-d90e-6b68e6f56126"
      },
      "outputs": [
        {
          "data": {
            "text/plain": [
              "[5, 8, 10, 11, 9]"
            ]
          },
          "execution_count": 17,
          "metadata": {},
          "output_type": "execute_result"
        }
      ],
      "source": [
        "def highbill(points,revenue,mindist):\n",
        "  dp = [0 for i in range(len(points))]\n",
        "  dp[0] = revenue[0] \n",
        "  for i in range(1,len(points)):\n",
        "    loc_max = 0\n",
        "    for j in range(i):\n",
        "      if points[i] - points[j] > mindist:\n",
        "        loc_max = max(loc_max,dp[j])\n",
        "    dp[i] = loc_max + revenue[i]\n",
        "  return dp\n",
        "\n",
        "\n",
        "points = [6,7,12,14,15]\n",
        "revenue = [5,8,5,3,1]\n",
        "mindist = 5\n",
        "highbill(points,revenue,mindist)"
      ]
    },
    {
      "cell_type": "markdown",
      "metadata": {
        "id": "T9cuAOKi-T5M"
      },
      "source": [
        "## 🙏 Thanks for visiting dynamic programming notebook. "
      ]
    }
  ],
  "metadata": {
    "colab": {
      "name": "Dynamic-Programming.ipynb",
      "provenance": []
    },
    "kernelspec": {
      "display_name": "Python 3",
      "name": "python3"
    },
    "language_info": {
      "name": "python"
    }
  },
  "nbformat": 4,
  "nbformat_minor": 0
}
