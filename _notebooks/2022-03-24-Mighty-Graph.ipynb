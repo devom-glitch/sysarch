{
 "cells": [
  {
   "cell_type": "markdown",
   "metadata": {},
   "source": [
    "# 💪 Mighty Graph\n",
    "> A graph data structure is a collection of nodes that have data and are connected to other nodes.\n",
    "\n",
    "- toc: true \n",
    "- badges: true\n",
    "- comments: true\n",
    "- categories: [algorithms,graph]\n",
    "- hide: false"
   ]
  },
  {
   "cell_type": "markdown",
   "metadata": {},
   "source": [
    "# Build Graph"
   ]
  },
  {
   "cell_type": "code",
   "execution_count": 12,
   "metadata": {},
   "outputs": [
    {
     "data": {
      "text/plain": [
       "defaultdict(list,\n",
       "            {0: [[0, 1, 10], [0, 3, 40]],\n",
       "             1: [[1, 0, 10], [1, 2, 20]],\n",
       "             2: [[2, 1, 20], [2, 3, 30]],\n",
       "             3: [[3, 2, 30], [3, 0, 40], [3, 4, 50]],\n",
       "             4: [[4, 3, 50], [4, 5, 60], [4, 6, 80]],\n",
       "             5: [[5, 4, 60], [5, 6, 70]],\n",
       "             6: [[6, 5, 70], [6, 4, 80]]})"
      ]
     },
     "execution_count": 12,
     "metadata": {},
     "output_type": "execute_result"
    }
   ],
   "source": [
    "from collections import defaultdict\n",
    "\n",
    "class Graph:\n",
    "    def __init__(self,vertices):\n",
    "        self.vertices = vertices\n",
    "        self.graph = defaultdict(list)\n",
    "    \n",
    "    def add_edge(self,src,dest,weight):\n",
    "        self.graph[src].append([src,dest,weight])\n",
    "        self.graph[dest].append([dest,src,weight])\n",
    "\n",
    "def build_graph(vertices,edges):\n",
    "    g = Graph(vertices)\n",
    "    for i in edges:\n",
    "        g.add_edge(i[0],i[1],i[2])\n",
    "    return g.graph\n",
    "\n",
    "# Building Graph with 7 Vertices and * Edges\n",
    "vertices = 7\n",
    "edges = [\n",
    "    [0,1,10],\n",
    "    [1,2,20],\n",
    "    [2,3,30],\n",
    "    [0,3,40],\n",
    "    [3,4,50],\n",
    "    [4,5,60],\n",
    "    [5,6,70],\n",
    "    [4,6,80]\n",
    "]\n",
    "graph = build_graph(vertices,edges)\n",
    "graph"
   ]
  },
  {
   "cell_type": "markdown",
   "metadata": {},
   "source": [
    "# Has Path"
   ]
  },
  {
   "cell_type": "code",
   "execution_count": 13,
   "metadata": {},
   "outputs": [
    {
     "data": {
      "text/plain": [
       "False"
      ]
     },
     "execution_count": 13,
     "metadata": {},
     "output_type": "execute_result"
    }
   ],
   "source": [
    "def haspath(graph,src,dest,visited):\n",
    "    if src == dest:\n",
    "        return True\n",
    "    visited[src] = True\n",
    "    for conn in graph[src]:\n",
    "        nbr = conn[1]\n",
    "        if not visited[nbr]: len(area[0])\n",
    "    return False\n",
    "\n",
    "src = 0\n",
    "dest = 6\n",
    "visited = [False] * vertices\n",
    "haspath(graph,src,dest,visited)"
   ]
  },
  {
   "cell_type": "markdown",
   "metadata": {},
   "source": [
    "# All Path"
   ]
  },
  {
   "cell_type": "code",
   "execution_count": 14,
   "metadata": {},
   "outputs": [
    {
     "name": "stdout",
     "output_type": "stream",
     "text": [
      "0 1 2 3 4 5 6\n",
      "0 1 2 3 4 6\n",
      "0 3 4 5 6\n",
      "0 3 4 6\n"
     ]
    }
   ],
   "source": [
    "def allpath(graph,src,dest,visited,psf):\n",
    "    if src == dest:\n",
    "        print(psf)\n",
    "        return \n",
    "    visited[src] = True\n",
    "    for path in graph[src]:\n",
    "        nbr = path[1]\n",
    "        if not visited[nbr]:\n",
    "            allpath(graph,nbr,dest,visited,psf+\" \"+str(nbr))\n",
    "    visited[src] = False\n",
    "src = 0\n",
    "dest = 6\n",
    "visited = [False] * vertices\n",
    "allpath(graph,src,dest,visited,\"0\")"
   ]
  },
  {
   "cell_type": "markdown",
   "metadata": {},
   "source": [
    "# Weight Solver "
   ]
  },
  {
   "cell_type": "code",
   "execution_count": 15,
   "metadata": {},
   "outputs": [
    {
     "name": "stdout",
     "output_type": "stream",
     "text": [
      "0 1 2 3 4 5 6  @  240\n",
      "0 1 2 3 4 6  @  190\n",
      "0 3 4 5 6  @  220\n",
      "0 3 4 6  @  170\n"
     ]
    }
   ],
   "source": [
    "def weightsolver(graph,src,dest,visited,psf,wsf):\n",
    "    if src == dest:\n",
    "        print(psf,\" @ \",str(wsf))\n",
    "        return\n",
    "    visited[src] = True\n",
    "    for path in graph[src]:\n",
    "        nbr = path[1]\n",
    "        wgt = path[2]\n",
    "        if not visited[nbr]:\n",
    "            weightsolver(graph,nbr,dest,visited,psf+\" \"+str(nbr),wsf+wgt)\n",
    "    visited[src] = False\n",
    "\n",
    "src = 0 \n",
    "dest = 6\n",
    "visited = [False] * vertices\n",
    "weightsolver(graph,src,dest,visited,\"0\",0)"
   ]
  },
  {
   "cell_type": "markdown",
   "metadata": {},
   "source": [
    "# Multisolver"
   ]
  },
  {
   "cell_type": "code",
   "execution_count": 16,
   "metadata": {},
   "outputs": [
    {
     "data": {
      "text/plain": [
       "{'smallest': ['0 3 4 6', 170],\n",
       " 'longest': ['0 1 2 3 4 5 6', 240],\n",
       " 'floor': ['0 1 2 3 4 6', 190],\n",
       " 'ceil': ['0 3 4 5 6', 220]}"
      ]
     },
     "execution_count": 16,
     "metadata": {},
     "output_type": "execute_result"
    }
   ],
   "source": [
    "import math\n",
    "solvebox = {\n",
    "    \"smallest\": [\"\",math.inf],\n",
    "    \"longest\": [\"\",-math.inf],\n",
    "    \"floor\": [\"\",-math.inf],\n",
    "    \"ceil\": [\"\",math.inf],\n",
    "}\n",
    "criteria = 200\n",
    "\n",
    "def multisolver(graph,src,dest,visited,psf,wsf):\n",
    "    if src == dest:\n",
    "        if wsf < solvebox[\"smallest\"][1]:\n",
    "            solvebox[\"smallest\"] = [psf,wsf] \n",
    "        if wsf > solvebox[\"longest\"][1]:\n",
    "            solvebox[\"longest\"] = [psf,wsf]\n",
    "        if wsf < criteria and wsf > solvebox[\"floor\"][1]:\n",
    "            solvebox[\"floor\"] = [psf,wsf]\n",
    "        if wsf > criteria and wsf < solvebox[\"ceil\"][1]:\n",
    "            solvebox[\"ceil\"] = [psf,wsf]\n",
    "        return \n",
    "    visited[src] = True\n",
    "    for path in graph[src]:\n",
    "        nbr = path[1]\n",
    "        wgt = path[2]\n",
    "        if not visited[nbr]:\n",
    "            multisolver(graph,nbr,dest,visited,psf+\" \"+str(nbr),wsf+wgt)\n",
    "    visited[src] = False\n",
    "\n",
    "multisolver(graph,src,dest,visited,\"0\",0)\n",
    "solvebox"
   ]
  },
  {
   "cell_type": "markdown",
   "metadata": {},
   "source": [
    "# Connected Components"
   ]
  },
  {
   "cell_type": "code",
   "execution_count": 17,
   "metadata": {},
   "outputs": [
    {
     "data": {
      "text/plain": [
       "[[0, 1], [2, 3], [4, 5, 6]]"
      ]
     },
     "execution_count": 17,
     "metadata": {},
     "output_type": "execute_result"
    }
   ],
   "source": [
    "def gen_comp(graph,src,comp,visited):\n",
    "    visited[src] = True\n",
    "    comp.append(src)\n",
    "    for path in graph[src]:\n",
    "        nbr = path[1]\n",
    "        if not visited[nbr]:\n",
    "            gen_comp(graph,nbr,comp,visited)\n",
    "\n",
    "def traverse_vert(vertices,graph):\n",
    "    comps = []\n",
    "    visited = [False]*vertices\n",
    "    for vert in range(vertices):\n",
    "        if not visited[vert]:\n",
    "            conn_comp = []\n",
    "            gen_comp(graph,vert,conn_comp,visited)\n",
    "            comps.append(conn_comp)\n",
    "    return comps\n",
    "\n",
    "v = 7 \n",
    "input = [\n",
    "    [0,1,10],\n",
    "    [2,3,10],\n",
    "    [4,5,10],\n",
    "    [5,6,10],\n",
    "    [4,6,10],\n",
    "]\n",
    "comp_graph = build_graph(v,input)\n",
    "traverse_vert(vertices,comp_graph)"
   ]
  },
  {
   "cell_type": "markdown",
   "metadata": {},
   "source": [
    "# Count Number of Islands"
   ]
  },
  {
   "cell_type": "code",
   "execution_count": 18,
   "metadata": {},
   "outputs": [
    {
     "data": {
      "text/plain": [
       "3"
      ]
     },
     "execution_count": 18,
     "metadata": {},
     "output_type": "execute_result"
    }
   ],
   "source": [
    "def isconn(area,x,y,visited):\n",
    "    if(x<0 or x > len(area)-1 or y <0 or y > len(area[0])-1 or visited[x][y] or area[x][y] == 1):\n",
    "        return\n",
    "    visited[x][y] = True\n",
    "    isconn(area,x-1,y,visited)\n",
    "    isconn(area,x+1,y,visited)\n",
    "    isconn(area,x,y-1,visited)\n",
    "    isconn(area,x,y+1,visited)\n",
    "\n",
    "def island(area):\n",
    "    count = 0\n",
    "    height = len(area)\n",
    "    width = len(area[0])\n",
    "    visited = [[False] * width] * height\n",
    "    for x in range(height):\n",
    "        for y in range(width):\n",
    "            if area[x][y] == 0 and not visited[x][y]:\n",
    "                isconn(area,x,y,visited)\n",
    "                count += 1\n",
    "    return count \n",
    "\n",
    "area = [\n",
    "    [0,0,1,1,1,1,1,1],\n",
    "    [0,0,1,1,1,1,1,1],\n",
    "    [1,1,1,1,1,1,1,0],\n",
    "    [1,1,0,0,0,1,1,0],\n",
    "    [1,1,1,1,0,1,1,0],\n",
    "    [1,1,1,1,0,1,1,0],\n",
    "    [1,1,1,1,0,1,1,0],\n",
    "    [1,1,1,1,1,1,1,0],\n",
    "    [1,1,1,1,1,1,1,0],\n",
    "]\n",
    "\n",
    "island(area)"
   ]
  },
  {
   "cell_type": "markdown",
   "metadata": {},
   "source": [
    "# Perfect Friends"
   ]
  },
  {
   "cell_type": "code",
   "execution_count": 21,
   "metadata": {},
   "outputs": [
    {
     "data": {
      "text/plain": [
       "16"
      ]
     },
     "execution_count": 21,
     "metadata": {},
     "output_type": "execute_result"
    }
   ],
   "source": [
    "from collections import defaultdict\n",
    "\n",
    "class Graph:\n",
    "    def __init__(self,vertices):\n",
    "        self.vertices = vertices\n",
    "        self.graph = defaultdict(list)\n",
    "    \n",
    "    def add_edge(self,src,dest):\n",
    "        self.graph[src].append([src,dest])\n",
    "        self.graph[dest].append([dest,src])\n",
    "\n",
    "def build_graph(vertices,edges):\n",
    "    g = Graph(vertices)\n",
    "    for i in edges:\n",
    "        g.add_edge(i[0],i[1])\n",
    "    return g.graph\n",
    "\n",
    "persons = 7  \n",
    "pairs = [\n",
    "    [0,1],\n",
    "    [2,3],\n",
    "    [4,5],\n",
    "    [5,6],\n",
    "    [4,6],\n",
    "]\n",
    "perfect_graph = build_graph(persons,pairs)\n",
    "# find connected components to find number of clubs\n",
    "clubs = traverse_vert(persons,perfect_graph)\n",
    "no_of_clubs = len(clubs)\n",
    "perfect_pair = 0 \n",
    "for i in range(no_of_clubs):\n",
    "    for j in range(i+1,no_of_clubs):\n",
    "        perfect_pair += len(clubs[i]) * len(clubs[j])\n",
    "perfect_pair"
   ]
  },
  {
   "cell_type": "markdown",
   "metadata": {},
   "source": [
    "# Hamilton Path (+) or Cycle (*)"
   ]
  },
  {
   "cell_type": "code",
   "execution_count": 27,
   "metadata": {},
   "outputs": [
    {
     "name": "stdout",
     "output_type": "stream",
     "text": [
      "0 1 2 3 4 5 6   +\n",
      "0 1 2 3 4 6 5   +\n",
      "0 1 2 5 6 4 3   *\n",
      "0 1 2 5 4 6   +\n"
     ]
    }
   ],
   "source": [
    "from collections import defaultdict\n",
    "\n",
    "class Graph:\n",
    "    def __init__(self,vertices):\n",
    "        self.vertices = vertices\n",
    "        self.graph = defaultdict(list)\n",
    "    \n",
    "    def add_edge(self,src,dest):\n",
    "        self.graph[src].append([src,dest])\n",
    "        self.graph[dest].append([dest,src])\n",
    "\n",
    "def build_graph(vertices,edges):\n",
    "    g = Graph(vertices)\n",
    "    for i in edges:\n",
    "        g.add_edge(i[0],i[1])\n",
    "    return g.graph\n",
    "\n",
    "vertices = 7\n",
    "hamilton_in = [\n",
    "    [0,1],\n",
    "    [0,3],\n",
    "    [1,2],\n",
    "    [2,3],\n",
    "    [2,5],\n",
    "    [5,6],\n",
    "    [5,4],\n",
    "    [6,4],\n",
    "    [4,3],\n",
    "]\n",
    "\n",
    "hamilton_graph = build_graph(vertices,hamilton_in)\n",
    "\n",
    "def hamilton(graph,src,dest,visited,psf,osrc):\n",
    "    visited[src] = True\n",
    "    if all(visited):\n",
    "        for path in graph[src]:\n",
    "            nbr = path[1]\n",
    "            if nbr == osrc:\n",
    "                print(psf,\" \",\"*\")\n",
    "                return \n",
    "        print(psf,\" \",\"+\") \n",
    "\n",
    "    for path in graph[src]:\n",
    "        nbr = path[1]\n",
    "        if not visited[nbr]:\n",
    "            hamilton(graph,nbr,dest,visited,psf+\" \"+str(nbr),osrc)\n",
    "    visited[src] = False\n",
    "visited = [False] * vertices\n",
    "hamilton(hamilton_graph,0,6,visited,\"0\",0)"
   ]
  },
  {
   "cell_type": "markdown",
   "metadata": {},
   "source": [
    "# Breadth First Traversal\n",
    "\n",
    "![sample graph](ghtop_images/graph_bfs.png)\n"
   ]
  },
  {
   "cell_type": "code",
   "execution_count": 4,
   "metadata": {},
   "outputs": [
    {
     "name": "stdout",
     "output_type": "stream",
     "text": [
      "P S R Q T "
     ]
    }
   ],
   "source": [
    "sample_graph = {\n",
    "    'P' : ['S','R','Q'],\n",
    "    'Q' : ['P','R'],\n",
    "    'R' : ['P','Q','T'],\n",
    "    'S' : ['P'],\n",
    "    'T' : ['R']\n",
    "}\n",
    "\n",
    "def bfs(graph,visited,queue,src):\n",
    "    visited.append(src)\n",
    "    queue.append(src)\n",
    "    while queue:\n",
    "        node = queue.pop(0)\n",
    "        print(node,end=\" \")\n",
    "        for nbr in graph[node]:\n",
    "            if nbr not in visited:\n",
    "                queue.append(nbr)\n",
    "                visited.append(nbr)\n",
    "\n",
    "visited = []\n",
    "queue = []\n",
    "src = 'P'\n",
    "bfs(sample_graph,visited,queue,src)\n",
    "\n"
   ]
  },
  {
   "cell_type": "markdown",
   "metadata": {},
   "source": [
    "# Has Cyclic"
   ]
  },
  {
   "cell_type": "code",
   "execution_count": 6,
   "metadata": {},
   "outputs": [
    {
     "data": {
      "text/plain": [
       "True"
      ]
     },
     "execution_count": 6,
     "metadata": {},
     "output_type": "execute_result"
    }
   ],
   "source": [
    "sample_graph = {\n",
    "    'P' : ['S','R','Q'],\n",
    "    'Q' : ['P','R'],\n",
    "    'R' : ['P','Q','T'],\n",
    "    'S' : ['P'],\n",
    "    'T' : ['R']\n",
    "}\n",
    "\n",
    "def hascycle(graph,visited,queue,src):\n",
    "    visited.append(src)\n",
    "    queue.append(src)\n",
    "    while queue:\n",
    "        node = queue.pop(0)\n",
    "        for nbr in graph[node]:\n",
    "            if nbr not in visited:\n",
    "                queue.append(nbr)\n",
    "                visited.append(nbr)\n",
    "            # if neighbour is visited, then it's forming a cycle.\n",
    "            else:\n",
    "                return True\n",
    "    return False\n",
    "\n",
    "visited = []\n",
    "queue = []\n",
    "src = 'P'\n",
    "hascycle(sample_graph,visited,queue,src)"
   ]
  },
  {
   "cell_type": "code",
   "execution_count": null,
   "metadata": {},
   "outputs": [],
   "source": []
  }
 ],
 "metadata": {
  "interpreter": {
   "hash": "916dbcbb3f70747c44a77c7bcd40155683ae19c65e1c03b4aa3499c5328201f1"
  },
  "kernelspec": {
   "display_name": "Python 3.9.5 64-bit",
   "language": "python",
   "name": "python3"
  },
  "language_info": {
   "codemirror_mode": {
    "name": "ipython",
    "version": 3
   },
   "file_extension": ".py",
   "mimetype": "text/x-python",
   "name": "python",
   "nbconvert_exporter": "python",
   "pygments_lexer": "ipython3",
   "version": "3.9.5"
  },
  "orig_nbformat": 4
 },
 "nbformat": 4,
 "nbformat_minor": 2
}
