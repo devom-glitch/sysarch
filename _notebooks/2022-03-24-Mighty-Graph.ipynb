{
 "cells": [
  {
   "cell_type": "code",
   "execution_count": null,
   "metadata": {},
   "outputs": [],
   "source": []
  },
  {
   "cell_type": "markdown",
   "metadata": {},
   "source": [
    "# Build Graph"
   ]
  },
  {
   "cell_type": "code",
   "execution_count": 2,
   "metadata": {},
   "outputs": [
    {
     "data": {
      "text/plain": [
       "defaultdict(list,\n",
       "            {0: [[0, 1, 10], [0, 3, 40]],\n",
       "             1: [[1, 0, 10], [1, 2, 20]],\n",
       "             2: [[2, 1, 20], [2, 3, 30]],\n",
       "             3: [[3, 2, 30], [3, 0, 40], [3, 4, 50]],\n",
       "             4: [[4, 3, 50], [4, 5, 60], [4, 6, 80]],\n",
       "             5: [[5, 4, 60], [5, 6, 70]],\n",
       "             6: [[6, 5, 70], [6, 4, 80]]})"
      ]
     },
     "execution_count": 2,
     "metadata": {},
     "output_type": "execute_result"
    }
   ],
   "source": [
    "from collections import defaultdict\n",
    "\n",
    "class Graph:\n",
    "    def __init__(self,vertices):\n",
    "        self.vertices = vertices\n",
    "        self.graph = defaultdict(list)\n",
    "    \n",
    "    def add_edge(self,src,dest,weight):\n",
    "        self.graph[src].append([src,dest,weight])\n",
    "        self.graph[dest].append([dest,src,weight])\n",
    "\n",
    "def build_graph(vertices,edges):\n",
    "    g = Graph(vertices)\n",
    "    for i in edges:\n",
    "        g.add_edge(i[0],i[1],i[2])\n",
    "    return g.graph\n",
    "\n",
    "# Building Graph with 7 Vertices and * Edges\n",
    "vertices = 7\n",
    "edges = [\n",
    "    [0,1,10],\n",
    "    [1,2,20],\n",
    "    [2,3,30],\n",
    "    [0,3,40],\n",
    "    [3,4,50],\n",
    "    [4,5,60],\n",
    "    [5,6,70],\n",
    "    [4,6,80]\n",
    "]\n",
    "graph = build_graph(vertices,edges)\n",
    "graph"
   ]
  },
  {
   "cell_type": "markdown",
   "metadata": {},
   "source": [
    "# Has Path"
   ]
  },
  {
   "cell_type": "code",
   "execution_count": 3,
   "metadata": {},
   "outputs": [
    {
     "data": {
      "text/plain": [
       "True"
      ]
     },
     "execution_count": 3,
     "metadata": {},
     "output_type": "execute_result"
    }
   ],
   "source": [
    "def haspath(graph,src,dest,visited):\n",
    "    if src == dest:\n",
    "        return True\n",
    "    visited[src] = True\n",
    "    for conn in graph[src]:\n",
    "        nbr = conn[1]\n",
    "        if not visited[nbr]: \n",
    "            has_npr_path = haspath(graph,nbr,dest,visited)\n",
    "            if has_npr_path:\n",
    "                return True\n",
    "    return False\n",
    "\n",
    "src = 0\n",
    "dest = 6\n",
    "visited = [False] * vertices\n",
    "haspath(graph,src,dest,visited)"
   ]
  },
  {
   "cell_type": "markdown",
   "metadata": {},
   "source": [
    "# All Path"
   ]
  },
  {
   "cell_type": "code",
   "execution_count": 4,
   "metadata": {},
   "outputs": [
    {
     "name": "stdout",
     "output_type": "stream",
     "text": [
      "0 1 2 3 4 5 6\n",
      "0 1 2 3 4 6\n",
      "0 3 4 5 6\n",
      "0 3 4 6\n"
     ]
    }
   ],
   "source": [
    "def allpath(graph,src,dest,visited,psf):\n",
    "    if src == dest:\n",
    "        print(psf)\n",
    "        return \n",
    "    visited[src] = True\n",
    "    for path in graph[src]:\n",
    "        nbr = path[1]\n",
    "        if not visited[nbr]:\n",
    "            allpath(graph,nbr,dest,visited,psf+\" \"+str(nbr))\n",
    "    visited[src] = False\n",
    "src = 0\n",
    "dest = 6\n",
    "visited = [False] * vertices\n",
    "allpath(graph,src,dest,visited,\"0\")"
   ]
  },
  {
   "cell_type": "code",
   "execution_count": null,
   "metadata": {},
   "outputs": [],
   "source": []
  }
 ],
 "metadata": {
  "interpreter": {
   "hash": "916dbcbb3f70747c44a77c7bcd40155683ae19c65e1c03b4aa3499c5328201f1"
  },
  "kernelspec": {
   "display_name": "Python 3.9.5 64-bit",
   "language": "python",
   "name": "python3"
  },
  "language_info": {
   "codemirror_mode": {
    "name": "ipython",
    "version": 3
   },
   "file_extension": ".py",
   "mimetype": "text/x-python",
   "name": "python",
   "nbconvert_exporter": "python",
   "pygments_lexer": "ipython3",
   "version": "3.9.5"
  },
  "orig_nbformat": 4
 },
 "nbformat": 4,
 "nbformat_minor": 2
}
