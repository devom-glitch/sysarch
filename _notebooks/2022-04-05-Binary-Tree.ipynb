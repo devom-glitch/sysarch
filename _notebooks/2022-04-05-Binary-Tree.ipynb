{
 "cells": [
  {
   "cell_type": "markdown",
   "metadata": {},
   "source": [
    "# 🌲 Binary Tree\n",
    ">  a binary tree is a tree data structure in which each node has at most two children, which are referred to as the left child and the right child.\n",
    "\n",
    "- toc: true \n",
    "- badges: true\n",
    "- comments: true\n",
    "- categories: [algorithms,tree]\n",
    "- hide: false"
   ]
  },
  {
   "cell_type": "markdown",
   "metadata": {},
   "source": [
    "# Build Binary Tree"
   ]
  },
  {
   "cell_type": "code",
   "execution_count": 15,
   "metadata": {},
   "outputs": [],
   "source": [
    "import warnings\n",
    "warnings.filterwarnings('ignore')"
   ]
  },
  {
   "cell_type": "code",
   "execution_count": 16,
   "metadata": {},
   "outputs": [
    {
     "name": "stdout",
     "output_type": "stream",
     "text": [
      "Defaulting to user installation because normal site-packages is not writeable\n",
      "Requirement already satisfied: binarytree in /home/priyanshu/.local/lib/python3.9/site-packages (6.5.1)\n",
      "Requirement already satisfied: graphviz in /home/priyanshu/.local/lib/python3.9/site-packages (from binarytree) (0.19.1)\n",
      "Requirement already satisfied: setuptools-scm[toml]>=5.0.1 in /home/priyanshu/.local/lib/python3.9/site-packages (from binarytree) (6.4.2)\n",
      "Requirement already satisfied: setuptools>=60.8.2 in /home/priyanshu/.local/lib/python3.9/site-packages (from binarytree) (61.2.0)\n",
      "Requirement already satisfied: packaging>=20.0 in /home/priyanshu/.local/lib/python3.9/site-packages (from setuptools-scm[toml]>=5.0.1->binarytree) (21.3)\n",
      "Requirement already satisfied: tomli>=1.0.0 in /home/priyanshu/.local/lib/python3.9/site-packages (from setuptools-scm[toml]>=5.0.1->binarytree) (2.0.1)\n",
      "Requirement already satisfied: pyparsing!=3.0.5,>=2.0.2 in /home/priyanshu/.local/lib/python3.9/site-packages (from packaging>=20.0->setuptools-scm[toml]>=5.0.1->binarytree) (3.0.7)\n",
      "Defaulting to user installation because normal site-packages is not writeable\n",
      "Requirement already satisfied: setuptools==61.2.0 in /home/priyanshu/.local/lib/python3.9/site-packages (61.2.0)\n"
     ]
    }
   ],
   "source": [
    "! pip install binarytree\n",
    "! pip install setuptools==61.2.0"
   ]
  },
  {
   "cell_type": "code",
   "execution_count": 17,
   "metadata": {},
   "outputs": [
    {
     "name": "stdout",
     "output_type": "stream",
     "text": [
      "\n",
      "     _______50______\n",
      "    /               \\\n",
      "  _25___         ____75\n",
      " /      \\       /      \\\n",
      "12      _37    62       87\n",
      "       /         \\\n",
      "      30          70\n",
      "\n"
     ]
    }
   ],
   "source": [
    "from binarytree import build \n",
    "nodes = [3,5,6,1,2,3,None,2,4,None,1,None,9]\n",
    "nodes_1 = [50,25,75,12,37,62,87,None,None,30,None,None,70,None,None]\n",
    "binary_tree = build(nodes_1)\n",
    "print(binary_tree)\n"
   ]
  },
  {
   "cell_type": "code",
   "execution_count": 18,
   "metadata": {},
   "outputs": [
    {
     "name": "stdout",
     "output_type": "stream",
     "text": [
      "50\n"
     ]
    }
   ],
   "source": [
    "print(binary_tree.value)"
   ]
  },
  {
   "cell_type": "code",
   "execution_count": 19,
   "metadata": {},
   "outputs": [
    {
     "name": "stdout",
     "output_type": "stream",
     "text": [
      "\n",
      "  ____75\n",
      " /      \\\n",
      "62       87\n",
      "  \\\n",
      "   70\n",
      "\n"
     ]
    }
   ],
   "source": [
    "print(binary_tree.right)"
   ]
  },
  {
   "cell_type": "code",
   "execution_count": 20,
   "metadata": {},
   "outputs": [
    {
     "name": "stdout",
     "output_type": "stream",
     "text": [
      "\n",
      "  _25___\n",
      " /      \\\n",
      "12      _37\n",
      "       /\n",
      "      30\n",
      "\n"
     ]
    }
   ],
   "source": [
    "print(binary_tree.left)"
   ]
  },
  {
   "cell_type": "markdown",
   "metadata": {},
   "source": [
    "# Common Operation"
   ]
  },
  {
   "cell_type": "markdown",
   "metadata": {},
   "source": [
    "## Size of Binary Tree"
   ]
  },
  {
   "cell_type": "code",
   "execution_count": 21,
   "metadata": {},
   "outputs": [
    {
     "data": {
      "text/plain": [
       "9"
      ]
     },
     "execution_count": 21,
     "metadata": {},
     "output_type": "execute_result"
    }
   ],
   "source": [
    "def size_bt(root):\n",
    "    if root == None:\n",
    "        return 0\n",
    "    ls = size_bt(root.left)\n",
    "    rs = size_bt(root.right)\n",
    "    ts = ls + rs + 1\n",
    "    return ts\n",
    "size_bt(binary_tree)"
   ]
  },
  {
   "cell_type": "markdown",
   "metadata": {},
   "source": [
    "## Sum of Binary Tree"
   ]
  },
  {
   "cell_type": "code",
   "execution_count": 22,
   "metadata": {},
   "outputs": [
    {
     "data": {
      "text/plain": [
       "448"
      ]
     },
     "execution_count": 22,
     "metadata": {},
     "output_type": "execute_result"
    }
   ],
   "source": [
    "def sum_bt(root):\n",
    "    if root == None:\n",
    "        return 0 \n",
    "    lsum = sum_bt(root.left)\n",
    "    rsum = sum_bt(root.right)\n",
    "    total_sum = root.value + lsum + rsum \n",
    "    return total_sum\n",
    "sum_bt(binary_tree)"
   ]
  },
  {
   "cell_type": "markdown",
   "metadata": {},
   "source": [
    "## Max in Binary Tree"
   ]
  },
  {
   "cell_type": "code",
   "execution_count": 23,
   "metadata": {},
   "outputs": [
    {
     "data": {
      "text/plain": [
       "87"
      ]
     },
     "execution_count": 23,
     "metadata": {},
     "output_type": "execute_result"
    }
   ],
   "source": [
    "def max_bt(root):\n",
    "    if root == None:\n",
    "        return 0 \n",
    "    lmax = max_bt(root.left)\n",
    "    rmax = max_bt(root.right)\n",
    "    total_max = max(root.value,max(lmax, rmax)) \n",
    "    return total_max\n",
    "max_bt(binary_tree)"
   ]
  },
  {
   "cell_type": "markdown",
   "metadata": {},
   "source": [
    "## Height of Binary Tree"
   ]
  },
  {
   "cell_type": "code",
   "execution_count": 24,
   "metadata": {},
   "outputs": [
    {
     "data": {
      "text/plain": [
       "4"
      ]
     },
     "execution_count": 24,
     "metadata": {},
     "output_type": "execute_result"
    }
   ],
   "source": [
    "# height in binary_tree -> -1 for edges and 0 for nodes\n",
    "def height_bt(root):\n",
    "    if root == None:\n",
    "        return 0 \n",
    "    lheight = height_bt(root.left)\n",
    "    rheight = height_bt(root.right)\n",
    "    total_height = max(lheight, rheight) + 1\n",
    "    return total_height\n",
    "height_bt(binary_tree)"
   ]
  },
  {
   "cell_type": "markdown",
   "metadata": {},
   "source": [
    "# Order"
   ]
  },
  {
   "cell_type": "code",
   "execution_count": 25,
   "metadata": {},
   "outputs": [],
   "source": [
    "def preorder(root):\n",
    "    if root == None:\n",
    "        return \n",
    "    print(root.value,end=\" \")\n",
    "    preorder(root.left)\n",
    "    preorder(root.right)\n",
    "\n",
    "def inorder(root):\n",
    "    if root == None:\n",
    "        return \n",
    "    inorder(root.left)\n",
    "    print(root.value,end=\" \")\n",
    "    inorder(root.right)\n",
    "\n",
    "def postorder(root):\n",
    "    if root == None:\n",
    "        return \n",
    "    postorder(root.left)\n",
    "    postorder(root.right)\n",
    "    print(root.value,end=\" \")\n",
    "\n",
    "def levelorder(root):\n",
    "    queue = []\n",
    "    queue.append(root)\n",
    "    while queue:\n",
    "        count = len(queue)\n",
    "        for i in range(count):\n",
    "            node = queue.pop(0) # remove 0th element of list\n",
    "            print(node.value,end=\" \")\n",
    "            if node.left != None:\n",
    "                queue.append(node.left)\n",
    "            if node.right != None:\n",
    "                queue.append(node.right)\n",
    "        print()\n",
    "\n",
    "def order(root,select):\n",
    "    if select == 1:\n",
    "        print('preorder')\n",
    "        preorder(root)\n",
    "    elif select == 2:\n",
    "        print('inorder')\n",
    "        inorder(root)\n",
    "    elif select == 3:\n",
    "        print('postorder')\n",
    "        postorder(root)\n",
    "    else:\n",
    "        print('levelorder')\n",
    "        levelorder(root)"
   ]
  },
  {
   "cell_type": "markdown",
   "metadata": {},
   "source": [
    "## preorder"
   ]
  },
  {
   "cell_type": "code",
   "execution_count": 26,
   "metadata": {},
   "outputs": [
    {
     "name": "stdout",
     "output_type": "stream",
     "text": [
      "preorder\n",
      "50 25 12 37 30 75 62 70 87 "
     ]
    }
   ],
   "source": [
    "order(binary_tree,1)"
   ]
  },
  {
   "cell_type": "markdown",
   "metadata": {},
   "source": [
    "## inorder"
   ]
  },
  {
   "cell_type": "code",
   "execution_count": 27,
   "metadata": {},
   "outputs": [
    {
     "name": "stdout",
     "output_type": "stream",
     "text": [
      "inorder\n",
      "12 25 30 37 50 62 70 75 87 "
     ]
    }
   ],
   "source": [
    "order(binary_tree,2)"
   ]
  },
  {
   "cell_type": "markdown",
   "metadata": {},
   "source": [
    "## postorder"
   ]
  },
  {
   "cell_type": "code",
   "execution_count": 28,
   "metadata": {},
   "outputs": [
    {
     "name": "stdout",
     "output_type": "stream",
     "text": [
      "postorder\n",
      "12 30 37 25 70 62 87 75 50 "
     ]
    }
   ],
   "source": [
    "order(binary_tree,3)"
   ]
  },
  {
   "cell_type": "markdown",
   "metadata": {},
   "source": [
    "## levelorder"
   ]
  },
  {
   "cell_type": "code",
   "execution_count": 29,
   "metadata": {},
   "outputs": [
    {
     "name": "stdout",
     "output_type": "stream",
     "text": [
      "levelorder\n",
      "50 \n",
      "25 75 \n",
      "12 37 62 87 \n",
      "30 70 \n"
     ]
    }
   ],
   "source": [
    "order(binary_tree,4)"
   ]
  },
  {
   "cell_type": "markdown",
   "metadata": {},
   "source": [
    "# Path to root"
   ]
  },
  {
   "cell_type": "code",
   "execution_count": 30,
   "metadata": {},
   "outputs": [
    {
     "name": "stdout",
     "output_type": "stream",
     "text": [
      "[70, 62, 75, 50]\n"
     ]
    }
   ],
   "source": [
    "path = []\n",
    "def pathtonode(root, data):\n",
    "    if root == None: return False\n",
    "    if root.value == data:\n",
    "        path.append(root.value)\n",
    "        return True \n",
    "    ln = pathtonode(root.left,data)\n",
    "    if ln: \n",
    "        path.append(root.value)\n",
    "        return True \n",
    "    rn = pathtonode(root.right,data)\n",
    "    if rn:\n",
    "        path.append(root.value)\n",
    "        return True \n",
    "    return False\n",
    "pathtonode(binary_tree,70)\n",
    "print(path)"
   ]
  },
  {
   "cell_type": "code",
   "execution_count": null,
   "metadata": {},
   "outputs": [],
   "source": []
  }
 ],
 "metadata": {
  "interpreter": {
   "hash": "916dbcbb3f70747c44a77c7bcd40155683ae19c65e1c03b4aa3499c5328201f1"
  },
  "kernelspec": {
   "display_name": "Python 3.9.5 64-bit",
   "language": "python",
   "name": "python3"
  },
  "language_info": {
   "codemirror_mode": {
    "name": "ipython",
    "version": 3
   },
   "file_extension": ".py",
   "mimetype": "text/x-python",
   "name": "python",
   "nbconvert_exporter": "python",
   "pygments_lexer": "ipython3",
   "version": "3.9.5"
  },
  "orig_nbformat": 4
 },
 "nbformat": 4,
 "nbformat_minor": 2
}
