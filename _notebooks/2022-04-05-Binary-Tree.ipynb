{
 "cells": [
  {
   "cell_type": "markdown",
   "metadata": {},
   "source": [
    "# 🌲 Binary Tree\n",
    ">  a binary tree is a tree data structure in which each node has at most two children, which are referred to as the left child and the right child.\n",
    "\n",
    "- toc: true \n",
    "- badges: true\n",
    "- comments: true\n",
    "- categories: [algorithms,tree]\n",
    "- hide: false"
   ]
  },
  {
   "cell_type": "markdown",
   "metadata": {},
   "source": [
    "# Build Binary Tree"
   ]
  },
  {
   "cell_type": "code",
   "execution_count": 3,
   "metadata": {},
   "outputs": [],
   "source": [
    "import warnings\n",
    "warnings.filterwarnings('ignore')"
   ]
  },
  {
   "cell_type": "code",
   "execution_count": 82,
   "metadata": {},
   "outputs": [
    {
     "name": "stdout",
     "output_type": "stream",
     "text": [
      "[[50, None, None], 1]\n",
      "2\n",
      "[[12, None, None], 1]\n",
      "2\n"
     ]
    },
    {
     "data": {
      "text/plain": [
       "[50, [12, None, None], None]"
      ]
     },
     "execution_count": 82,
     "metadata": {},
     "output_type": "execute_result"
    }
   ],
   "source": [
    "# custom binary build\n",
    "class Node:\n",
    "    def __init__(self,data,left,right):\n",
    "        self.data = data \n",
    "        self.left = left\n",
    "        self.right = right\n",
    "# 1 -> left , 2 -> right, 3 -> pop from stack     \n",
    "def build(arr):\n",
    "    stack = []\n",
    "    root = [arr[0],None,None]\n",
    "    stack.append([root,1])\n",
    "    idx = 1\n",
    "    while len(stack) > 0:\n",
    "        top = stack.pop(-1)\n",
    "        print(top)\n",
    "        if top[1] == 1:\n",
    "            idx += 1\n",
    "            if arr[idx]:\n",
    "                top[0][1]= [arr[idx],None,None]\n",
    "                stack.append([top[0][1],1])\n",
    "            else:\n",
    "                top[0][1] = None\n",
    "            top[1] = top[1] + 1\n",
    "            print(top[1])\n",
    "        elif top[1] == 2:\n",
    "            idx += 1\n",
    "            if arr[idx]:\n",
    "                top[0][2] = [arr[idx],None,None]\n",
    "                stack.append([top[0][2],1])\n",
    "            else:\n",
    "                top[0][2] = None\n",
    "            top[1] = top[1] + 1\n",
    "        else:\n",
    "            stack.pop(-1)\n",
    "    return root\n",
    "\n",
    "arr2 = [50,25,12,None,None,37,30,None,None,None,75,62,None,70,None,None,87,None,None]\n",
    "build(arr)\n"
   ]
  },
  {
   "cell_type": "code",
   "execution_count": null,
   "metadata": {},
   "outputs": [],
   "source": [
    "! pip install binarytree\n",
    "! pip install setuptools==61.2.0"
   ]
  },
  {
   "cell_type": "code",
   "execution_count": 1,
   "metadata": {},
   "outputs": [],
   "source": [
    "from binarytree import build"
   ]
  },
  {
   "cell_type": "code",
   "execution_count": null,
   "metadata": {},
   "outputs": [],
   "source": [
    "build"
   ]
  }
 ],
 "metadata": {
  "interpreter": {
   "hash": "916dbcbb3f70747c44a77c7bcd40155683ae19c65e1c03b4aa3499c5328201f1"
  },
  "kernelspec": {
   "display_name": "Python 3.9.5 64-bit",
   "language": "python",
   "name": "python3"
  },
  "language_info": {
   "codemirror_mode": {
    "name": "ipython",
    "version": 3
   },
   "file_extension": ".py",
   "mimetype": "text/x-python",
   "name": "python",
   "nbconvert_exporter": "python",
   "pygments_lexer": "ipython3",
   "version": "3.9.5"
  },
  "orig_nbformat": 4
 },
 "nbformat": 4,
 "nbformat_minor": 2
}
