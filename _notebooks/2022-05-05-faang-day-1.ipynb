{
 "cells": [
  {
   "cell_type": "markdown",
   "metadata": {},
   "source": [
    "# Faang Day 1\n",
    ">  Great Developer with great practice\n",
    "\n",
    "- toc: true \n",
    "- badges: true\n",
    "- comments: true\n",
    "- categories: [practice,dream]\n",
    "- hide: false"
   ]
  },
  {
   "cell_type": "code",
   "execution_count": 6,
   "metadata": {},
   "outputs": [
    {
     "name": "stdout",
     "output_type": "stream",
     "text": [
      "   *\n",
      "  ***\n",
      " *****\n",
      "  ***\n",
      "   *\n"
     ]
    }
   ],
   "source": [
    "def barfi(size):\n",
    "    star = 1\n",
    "    space = size // 2 \n",
    "    flag = 0\n",
    "    for i in range(size):\n",
    "        print(\" \"*space,\"*\"*star)\n",
    "        if star < size and not flag:\n",
    "            star += 2 \n",
    "            space -= 1\n",
    "        else:\n",
    "            flag = 1\n",
    "            star -= 2 \n",
    "            space += 1\n",
    "\n",
    "barfi(5)"
   ]
  },
  {
   "cell_type": "code",
   "execution_count": 8,
   "metadata": {},
   "outputs": [
    {
     "name": "stdout",
     "output_type": "stream",
     "text": [
      "***   ***\n",
      "**     **\n",
      "*       *\n",
      "**     **\n",
      "***   ***\n"
     ]
    }
   ],
   "source": [
    "def barfi_box(size):\n",
    "    star = size // 2 + 1 \n",
    "    space = 1\n",
    "    flag = 0 \n",
    "    for i in range(size):\n",
    "        print(\"*\"*star,\" \"*space,\"*\"*star)\n",
    "        if space < size and not flag:\n",
    "            space += 2 \n",
    "            star -= 1\n",
    "        else:\n",
    "            flag = 1 \n",
    "            space -= 2\n",
    "            star +=1\n",
    "\n",
    "barfi_box(5)"
   ]
  },
  {
   "cell_type": "code",
   "execution_count": 16,
   "metadata": {},
   "outputs": [
    {
     "name": "stdout",
     "output_type": "stream",
     "text": [
      "*   *\n",
      " * * \n",
      "  *  \n",
      " * * \n",
      "*   *\n"
     ]
    }
   ],
   "source": [
    "def cross(size):\n",
    "    for i in range(1,size+1):\n",
    "        for j in range(1,size+1):\n",
    "            if i == j or (i+j) == (size+1):\n",
    "                print(\"*\",end=\"\")\n",
    "            else:\n",
    "                print(\" \",end=\"\")\n",
    "        print()\n",
    "cross(5)"
   ]
  },
  {
   "cell_type": "code",
   "execution_count": 23,
   "metadata": {},
   "outputs": [
    {
     "name": "stdout",
     "output_type": "stream",
     "text": [
      "   * \n",
      "  *  *\n",
      " *    *\n",
      "  *  *\n",
      "   * \n"
     ]
    }
   ],
   "source": [
    "def barfi_outline(size):\n",
    "    in_space = -1 \n",
    "    outer_space = size // 2\n",
    "    for i in range(1,size+1):\n",
    "        print(\" \"*outer_space,\"*\",\" \"*in_space,end=\"\")\n",
    "        if i > 1 and i < size:\n",
    "            print(\"*\",end=\"\")\n",
    "        if i <= size // 2:\n",
    "            outer_space -= 1\n",
    "            in_space += 2 \n",
    "        else:\n",
    "            outer_space += 1\n",
    "            in_space -= 2\n",
    "        print()\n",
    "barfi_outline(5)"
   ]
  },
  {
   "cell_type": "code",
   "execution_count": 18,
   "metadata": {},
   "outputs": [
    {
     "name": "stdout",
     "output_type": "stream",
     "text": [
      "\n"
     ]
    }
   ],
   "source": [
    "print(\"a\"*-1)"
   ]
  },
  {
   "cell_type": "code",
   "execution_count": 25,
   "metadata": {},
   "outputs": [
    {
     "name": "stdout",
     "output_type": "stream",
     "text": [
      "    *\n",
      "    **\n",
      "    ***\n",
      "    **\n",
      "    ***\n"
     ]
    }
   ],
   "source": [
    "def arrow(size):\n",
    "    space = size // 2\n",
    "    star = 1 \n",
    "    for i in range(1,size+1):\n",
    "        for sp in range(space):\n",
    "            if sp == size//2:\n",
    "                print(\"*\",end=\" \")\n",
    "            else:\n",
    "                print(\" \",end=\" \")\n",
    "        print(\"*\"*star)\n",
    "        if star <= size//2:\n",
    "            star += 1\n",
    "        else: \n",
    "            star -= 1\n",
    "arrow(5)"
   ]
  },
  {
   "cell_type": "code",
   "execution_count": null,
   "metadata": {},
   "outputs": [],
   "source": []
  }
 ],
 "metadata": {
  "kernelspec": {
   "display_name": "Python 3 (ipykernel)",
   "language": "python",
   "name": "python3"
  },
  "language_info": {
   "codemirror_mode": {
    "name": "ipython",
    "version": 3
   },
   "file_extension": ".py",
   "mimetype": "text/x-python",
   "name": "python",
   "nbconvert_exporter": "python",
   "pygments_lexer": "ipython3",
   "version": "3.9.5"
  },
  "orig_nbformat": 4
 },
 "nbformat": 4,
 "nbformat_minor": 2
}
