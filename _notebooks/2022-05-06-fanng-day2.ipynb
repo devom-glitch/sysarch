{
 "cells": [
  {
   "cell_type": "markdown",
   "metadata": {},
   "source": [
    "# Faang Day 2\n",
    ">  Great Developer with great practice\n",
    "\n",
    "- toc: true \n",
    "- badges: true\n",
    "- comments: true\n",
    "- categories: [practice,dream]\n",
    "- hide: true"
   ]
  },
  {
   "cell_type": "markdown",
   "metadata": {},
   "source": [
    "# 3 question of array "
   ]
  },
  {
   "cell_type": "code",
   "execution_count": 5,
   "metadata": {},
   "outputs": [
    {
     "data": {
      "text/plain": [
       "15"
      ]
     },
     "execution_count": 5,
     "metadata": {},
     "output_type": "execute_result"
    }
   ],
   "source": [
    "# K-concatination\n",
    "# kaden algorithm using dp \n",
    "def maxsubarray(arr):\n",
    "    dp = [0] * len(arr)\n",
    "    ans = dp[0] = arr[0]\n",
    "    for i in range(1,len(arr)):\n",
    "        dp[i]=max(arr[i],arr[i]+dp[i-1])\n",
    "        ans = max(ans,dp[i-1])\n",
    "    return ans\n",
    "\n",
    "def kcon(arr,k):\n",
    "    if k == 1:\n",
    "        return maxsubarray(arr)\n",
    "    else:\n",
    "        sum_arr = sum(arr)\n",
    "        new_arr = arr + arr\n",
    "        return max(maxsubarray(new_arr),maxsubarray(new_arr)+sum_arr*(k-2))\n",
    "kcon([-1,2,4,-5,0,3],4)"
   ]
  },
  {
   "cell_type": "code",
   "execution_count": 10,
   "metadata": {},
   "outputs": [
    {
     "name": "stdout",
     "output_type": "stream",
     "text": [
      "21 , [-11, -10, 20, -5, 3, 5, -8, 13, -10] , -3 , 28 , 31\n"
     ]
    },
    {
     "data": {
      "text/plain": [
       "31"
      ]
     },
     "execution_count": 10,
     "metadata": {},
     "output_type": "execute_result"
    }
   ],
   "source": [
    "# maximum circular subarray sum \n",
    "\n",
    "def maxcir_subsum(arr):\n",
    "    sum_pos = maxsubarray(arr)\n",
    "    neg_arr = [-1*i for i in arr]\n",
    "    sum_neg = maxsubarray(neg_arr)\n",
    "    wrap_sum = -(sum(neg_arr) - sum_neg) \n",
    "    res = max(sum_pos,wrap_sum)\n",
    "    print(sum_pos,',',neg_arr,',',sum(neg_arr),',',sum_neg,',',wrap_sum)\n",
    "    return res \n",
    "a = [11, 10, -20, 5, -3, -5, 8, -13, 10]\n",
    "maxcir_subsum(a)"
   ]
  },
  {
   "cell_type": "code",
   "execution_count": 12,
   "metadata": {},
   "outputs": [
    {
     "name": "stdout",
     "output_type": "stream",
     "text": [
      "1 4\n",
      "7 7\n"
     ]
    }
   ],
   "source": [
    "# finding subarray with given sum \n",
    "\n",
    "def find_sum(arr,goal):\n",
    "    n = len(arr)\n",
    "    curr_sum = arr[0]\n",
    "    start = 0 \n",
    "    i = 1 \n",
    "    while i <= n:\n",
    "        while curr_sum > goal and start < i-1:\n",
    "            curr_sum -= arr[start]\n",
    "            start += 1\n",
    "        if curr_sum == goal:\n",
    "            print(start,i-1)\n",
    "        if i < n:\n",
    "            curr_sum += arr[i]\n",
    "        i += 1\n",
    "\n",
    "arr = [15, 2, 4, 8, 9, 5, 10, 23]\n",
    "goal = 23 \n",
    "find_sum(arr,goal)\n",
    "\n"
   ]
  },
  {
   "cell_type": "code",
   "execution_count": null,
   "metadata": {},
   "outputs": [],
   "source": []
  }
 ],
 "metadata": {
  "interpreter": {
   "hash": "31f2aee4e71d21fbe5cf8b01ff0e069b9275f58929596ceb00d14d90e3e16cd6"
  },
  "kernelspec": {
   "display_name": "Python 3.9.5 64-bit",
   "language": "python",
   "name": "python3"
  },
  "language_info": {
   "codemirror_mode": {
    "name": "ipython",
    "version": 3
   },
   "file_extension": ".py",
   "mimetype": "text/x-python",
   "name": "python",
   "nbconvert_exporter": "python",
   "pygments_lexer": "ipython3",
   "version": "3.9.5"
  },
  "orig_nbformat": 4
 },
 "nbformat": 4,
 "nbformat_minor": 2
}
