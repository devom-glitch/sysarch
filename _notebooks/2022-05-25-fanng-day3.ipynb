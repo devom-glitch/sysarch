{
 "cells": [
  {
   "cell_type": "markdown",
   "metadata": {},
   "source": [
    "# Faang Day 3\n",
    ">  Great Developer with great practice\n",
    "\n",
    "- toc: true \n",
    "- badges: true\n",
    "- comments: true\n",
    "- categories: [practice,dream]\n",
    "- hide: true"
   ]
  },
  {
   "cell_type": "code",
   "execution_count": 5,
   "metadata": {},
   "outputs": [
    {
     "data": {
      "text/plain": [
       "8"
      ]
     },
     "execution_count": 5,
     "metadata": {},
     "output_type": "execute_result"
    }
   ],
   "source": [
    "def trap_water(arr):\n",
    "    total_water = 0\n",
    "    for i in range(0,len(arr)):\n",
    "        try:\n",
    "            maxL = max(arr[:i])\n",
    "            maxR = max(arr[i+1:])\n",
    "        except ValueError:\n",
    "            continue\n",
    "        curr_water = min(maxL,maxR) - arr[i]\n",
    "        if curr_water > 0:\n",
    "            total_water += curr_water\n",
    "    return total_water\n",
    "trap_water([0,1,0,2,1,0,3,1,0,1,2])"
   ]
  },
  {
   "cell_type": "code",
   "execution_count": 7,
   "metadata": {},
   "outputs": [
    {
     "data": {
      "text/plain": [
       "6"
      ]
     },
     "execution_count": 7,
     "metadata": {},
     "output_type": "execute_result"
    }
   ],
   "source": [
    "\n",
    "def trap(height):\n",
    "    # two shifing pointer \n",
    "    total_water = 0\n",
    "    max_left = 0\n",
    "    max_right = 0\n",
    "    pointer_left = 0 \n",
    "    pointer_right = len(height) - 1\n",
    "    while pointer_left < pointer_right:\n",
    "        if height[pointer_left] <= height[pointer_right]:\n",
    "            if height[pointer_left] >= max_left:\n",
    "                max_left = height[pointer_left]\n",
    "            else:\n",
    "                total_water += max_left - height[pointer_left]\n",
    "            pointer_left += 1\n",
    "        else:\n",
    "            if height[pointer_right] >= max_right:\n",
    "                max_right = height[pointer_right]\n",
    "            else:\n",
    "                total_water += max_right - height[pointer_right]\n",
    "            pointer_right -= 1\n",
    "    return total_water\n",
    "trap([0,1,0,2,1,0,1,3,2,1,2,1])"
   ]
  },
  {
   "cell_type": "code",
   "execution_count": 9,
   "metadata": {},
   "outputs": [
    {
     "data": {
      "text/plain": [
       "2"
      ]
     },
     "execution_count": 9,
     "metadata": {},
     "output_type": "execute_result"
    }
   ],
   "source": [
    "\n",
    "def bagOfTokensScore(tokens,power):\n",
    "    tokens = sorted(tokens)\n",
    "    low_point = 0 \n",
    "    high_point = len(tokens) - 1\n",
    "    score = 0 \n",
    "    ans = 0 \n",
    "    while (low_point <= high_point) and (score >= 1 or power >= tokens[low_point]):\n",
    "        if power >= tokens[low_point]:\n",
    "            power -= tokens[low_point]\n",
    "            score += 1\n",
    "            low_point += 1\n",
    "        elif score >= 1:\n",
    "            power += tokens[high_point]\n",
    "            score -= 1\n",
    "            high_point -= 1\n",
    "        ans = max(ans,score)\n",
    "    return ans\n",
    "bagOfTokensScore([100,200,300,400],200)"
   ]
  },
  {
   "cell_type": "code",
   "execution_count": 11,
   "metadata": {},
   "outputs": [
    {
     "name": "stdout",
     "output_type": "stream",
     "text": [
      "[0, 0, 0, 1, 1, 1, 2, 2]\n"
     ]
    }
   ],
   "source": [
    "\n",
    "def sortColors(nums):\n",
    "    \"\"\"\n",
    "    Do not return anything, modify nums in-place instead.\n",
    "    \"\"\" \n",
    "    p0 = 0 \n",
    "    p1 = 0 \n",
    "    p2 = len(nums) - 1 \n",
    "    while p1 <= p2:\n",
    "        if nums[p1] == 0:\n",
    "            nums[p0],nums[p1] = nums[p1],nums[p0]\n",
    "            p1 += 1\n",
    "            p0 += 1\n",
    "        elif nums[p1] == 1:\n",
    "            p1 += 1\n",
    "        else: \n",
    "            nums[p2],nums[p1] = nums[p1], nums[p2]\n",
    "            p2 -= 1\n",
    "\n",
    "nums = [2,1,0,0,1,0,1,2]\n",
    "sortColors(nums)\n",
    "print(nums)"
   ]
  },
  {
   "cell_type": "code",
   "execution_count": null,
   "metadata": {},
   "outputs": [],
   "source": []
  }
 ],
 "metadata": {
  "kernelspec": {
   "display_name": "Python 3.9.5 64-bit",
   "language": "python",
   "name": "python3"
  },
  "language_info": {
   "codemirror_mode": {
    "name": "ipython",
    "version": 3
   },
   "file_extension": ".py",
   "mimetype": "text/x-python",
   "name": "python",
   "nbconvert_exporter": "python",
   "pygments_lexer": "ipython3",
   "version": "3.9.5"
  },
  "orig_nbformat": 4,
  "vscode": {
   "interpreter": {
    "hash": "31f2aee4e71d21fbe5cf8b01ff0e069b9275f58929596ceb00d14d90e3e16cd6"
   }
  }
 },
 "nbformat": 4,
 "nbformat_minor": 2
}
